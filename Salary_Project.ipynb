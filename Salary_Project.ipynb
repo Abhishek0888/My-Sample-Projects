{
 "cells": [
  {
   "cell_type": "code",
   "execution_count": 1,
   "id": "ee98ed4f",
   "metadata": {},
   "outputs": [],
   "source": [
    "# Importing required libraries\n",
    "import pandas as pd\n",
    "import numpy as np\n",
    "import seaborn as sns\n",
    "import matplotlib.pyplot as plt\n",
    "%matplotlib inline\n",
    "\n",
    "import warnings\n",
    "warnings.filterwarnings('ignore')"
   ]
  },
  {
   "cell_type": "code",
   "execution_count": 2,
   "id": "a0589967",
   "metadata": {},
   "outputs": [
    {
     "data": {
      "text/html": [
       "<div>\n",
       "<style scoped>\n",
       "    .dataframe tbody tr th:only-of-type {\n",
       "        vertical-align: middle;\n",
       "    }\n",
       "\n",
       "    .dataframe tbody tr th {\n",
       "        vertical-align: top;\n",
       "    }\n",
       "\n",
       "    .dataframe thead th {\n",
       "        text-align: right;\n",
       "    }\n",
       "</style>\n",
       "<table border=\"1\" class=\"dataframe\">\n",
       "  <thead>\n",
       "    <tr style=\"text-align: right;\">\n",
       "      <th></th>\n",
       "      <th>rank</th>\n",
       "      <th>discipline</th>\n",
       "      <th>yrs.since.phd</th>\n",
       "      <th>yrs.service</th>\n",
       "      <th>sex</th>\n",
       "      <th>salary</th>\n",
       "    </tr>\n",
       "  </thead>\n",
       "  <tbody>\n",
       "    <tr>\n",
       "      <th>0</th>\n",
       "      <td>Prof</td>\n",
       "      <td>B</td>\n",
       "      <td>19</td>\n",
       "      <td>18</td>\n",
       "      <td>Male</td>\n",
       "      <td>139750</td>\n",
       "    </tr>\n",
       "    <tr>\n",
       "      <th>1</th>\n",
       "      <td>Prof</td>\n",
       "      <td>B</td>\n",
       "      <td>20</td>\n",
       "      <td>16</td>\n",
       "      <td>Male</td>\n",
       "      <td>173200</td>\n",
       "    </tr>\n",
       "    <tr>\n",
       "      <th>2</th>\n",
       "      <td>AsstProf</td>\n",
       "      <td>B</td>\n",
       "      <td>4</td>\n",
       "      <td>3</td>\n",
       "      <td>Male</td>\n",
       "      <td>79750</td>\n",
       "    </tr>\n",
       "    <tr>\n",
       "      <th>3</th>\n",
       "      <td>Prof</td>\n",
       "      <td>B</td>\n",
       "      <td>45</td>\n",
       "      <td>39</td>\n",
       "      <td>Male</td>\n",
       "      <td>115000</td>\n",
       "    </tr>\n",
       "    <tr>\n",
       "      <th>4</th>\n",
       "      <td>Prof</td>\n",
       "      <td>B</td>\n",
       "      <td>40</td>\n",
       "      <td>41</td>\n",
       "      <td>Male</td>\n",
       "      <td>141500</td>\n",
       "    </tr>\n",
       "    <tr>\n",
       "      <th>...</th>\n",
       "      <td>...</td>\n",
       "      <td>...</td>\n",
       "      <td>...</td>\n",
       "      <td>...</td>\n",
       "      <td>...</td>\n",
       "      <td>...</td>\n",
       "    </tr>\n",
       "    <tr>\n",
       "      <th>392</th>\n",
       "      <td>Prof</td>\n",
       "      <td>A</td>\n",
       "      <td>33</td>\n",
       "      <td>30</td>\n",
       "      <td>Male</td>\n",
       "      <td>103106</td>\n",
       "    </tr>\n",
       "    <tr>\n",
       "      <th>393</th>\n",
       "      <td>Prof</td>\n",
       "      <td>A</td>\n",
       "      <td>31</td>\n",
       "      <td>19</td>\n",
       "      <td>Male</td>\n",
       "      <td>150564</td>\n",
       "    </tr>\n",
       "    <tr>\n",
       "      <th>394</th>\n",
       "      <td>Prof</td>\n",
       "      <td>A</td>\n",
       "      <td>42</td>\n",
       "      <td>25</td>\n",
       "      <td>Male</td>\n",
       "      <td>101738</td>\n",
       "    </tr>\n",
       "    <tr>\n",
       "      <th>395</th>\n",
       "      <td>Prof</td>\n",
       "      <td>A</td>\n",
       "      <td>25</td>\n",
       "      <td>15</td>\n",
       "      <td>Male</td>\n",
       "      <td>95329</td>\n",
       "    </tr>\n",
       "    <tr>\n",
       "      <th>396</th>\n",
       "      <td>AsstProf</td>\n",
       "      <td>A</td>\n",
       "      <td>8</td>\n",
       "      <td>4</td>\n",
       "      <td>Male</td>\n",
       "      <td>81035</td>\n",
       "    </tr>\n",
       "  </tbody>\n",
       "</table>\n",
       "<p>397 rows × 6 columns</p>\n",
       "</div>"
      ],
      "text/plain": [
       "         rank discipline  yrs.since.phd  yrs.service   sex  salary\n",
       "0        Prof          B             19           18  Male  139750\n",
       "1        Prof          B             20           16  Male  173200\n",
       "2    AsstProf          B              4            3  Male   79750\n",
       "3        Prof          B             45           39  Male  115000\n",
       "4        Prof          B             40           41  Male  141500\n",
       "..        ...        ...            ...          ...   ...     ...\n",
       "392      Prof          A             33           30  Male  103106\n",
       "393      Prof          A             31           19  Male  150564\n",
       "394      Prof          A             42           25  Male  101738\n",
       "395      Prof          A             25           15  Male   95329\n",
       "396  AsstProf          A              8            4  Male   81035\n",
       "\n",
       "[397 rows x 6 columns]"
      ]
     },
     "execution_count": 2,
     "metadata": {},
     "output_type": "execute_result"
    }
   ],
   "source": [
    "df= pd.read_csv('Salaries.csv')\n",
    "df"
   ]
  },
  {
   "cell_type": "code",
   "execution_count": 3,
   "id": "b13dcb8a",
   "metadata": {},
   "outputs": [
    {
     "name": "stdout",
     "output_type": "stream",
     "text": [
      "<class 'pandas.core.frame.DataFrame'>\n",
      "RangeIndex: 397 entries, 0 to 396\n",
      "Data columns (total 6 columns):\n",
      " #   Column         Non-Null Count  Dtype \n",
      "---  ------         --------------  ----- \n",
      " 0   rank           397 non-null    object\n",
      " 1   discipline     397 non-null    object\n",
      " 2   yrs.since.phd  397 non-null    int64 \n",
      " 3   yrs.service    397 non-null    int64 \n",
      " 4   sex            397 non-null    object\n",
      " 5   salary         397 non-null    int64 \n",
      "dtypes: int64(3), object(3)\n",
      "memory usage: 18.7+ KB\n"
     ]
    }
   ],
   "source": [
    "df.info()"
   ]
  },
  {
   "cell_type": "code",
   "execution_count": 5,
   "id": "38045fe5",
   "metadata": {},
   "outputs": [
    {
     "data": {
      "text/plain": [
       "array([19, 20,  4, 45, 40,  6, 30, 21, 18, 12,  7,  1,  2, 38, 37, 39, 31,\n",
       "       36, 34, 24, 13, 35,  5, 11, 22, 41,  9, 23, 25, 28, 16, 14, 10,  8,\n",
       "        3, 33, 17, 29, 26, 43, 15, 42, 32, 54, 56, 27, 48, 46, 47, 52, 51,\n",
       "       49, 44], dtype=int64)"
      ]
     },
     "execution_count": 5,
     "metadata": {},
     "output_type": "execute_result"
    }
   ],
   "source": [
    "df['yrs.since.phd'].unique()"
   ]
  },
  {
   "cell_type": "code",
   "execution_count": 6,
   "id": "31cd7e20",
   "metadata": {},
   "outputs": [
    {
     "data": {
      "text/plain": [
       "array(['Prof', 'AsstProf', 'AssocProf'], dtype=object)"
      ]
     },
     "execution_count": 6,
     "metadata": {},
     "output_type": "execute_result"
    }
   ],
   "source": [
    "df['rank'].unique()   # we will encode this  like  Prof:1, AsstProf: 3, AssocProf: 2"
   ]
  },
  {
   "cell_type": "code",
   "execution_count": 7,
   "id": "94cee452",
   "metadata": {},
   "outputs": [
    {
     "data": {
      "text/plain": [
       "array(['B', 'A'], dtype=object)"
      ]
     },
     "execution_count": 7,
     "metadata": {},
     "output_type": "execute_result"
    }
   ],
   "source": [
    "df['discipline'].unique()  # seems A is good discipline professor"
   ]
  },
  {
   "cell_type": "code",
   "execution_count": 8,
   "id": "1484b060",
   "metadata": {},
   "outputs": [
    {
     "data": {
      "text/plain": [
       "array(['Male', 'Female'], dtype=object)"
      ]
     },
     "execution_count": 8,
     "metadata": {},
     "output_type": "execute_result"
    }
   ],
   "source": [
    "df['sex'].unique()"
   ]
  },
  {
   "cell_type": "markdown",
   "id": "178549af",
   "metadata": {},
   "source": [
    "# Null Values"
   ]
  },
  {
   "cell_type": "code",
   "execution_count": 9,
   "id": "d55a1931",
   "metadata": {},
   "outputs": [
    {
     "data": {
      "text/plain": [
       "rank             0\n",
       "discipline       0\n",
       "yrs.since.phd    0\n",
       "yrs.service      0\n",
       "sex              0\n",
       "salary           0\n",
       "dtype: int64"
      ]
     },
     "execution_count": 9,
     "metadata": {},
     "output_type": "execute_result"
    }
   ],
   "source": [
    "df.isnull().sum()   # No null values"
   ]
  },
  {
   "cell_type": "code",
   "execution_count": 10,
   "id": "00c12721",
   "metadata": {},
   "outputs": [
    {
     "data": {
      "text/plain": [
       "<AxesSubplot:>"
      ]
     },
     "execution_count": 10,
     "metadata": {},
     "output_type": "execute_result"
    },
    {
     "data": {
      "image/png": "[encoded data removed]",
      "text/plain": [
       "<Figure size 432x288 with 2 Axes>"
      ]
     },
     "metadata": {
      "needs_background": "light"
     },
     "output_type": "display_data"
    }
   ],
   "source": [
    "sns.heatmap(df.isnull())"
   ]
  },
  {
   "cell_type": "markdown",
   "id": "e5cd133d",
   "metadata": {},
   "source": [
    "# Univariate Analysis()"
   ]
  },
  {
   "cell_type": "code",
   "execution_count": 12,
   "id": "f65e216d",
   "metadata": {},
   "outputs": [
    {
     "data": {
      "text/plain": [
       "<AxesSubplot:xlabel='rank', ylabel='salary'>"
      ]
     },
     "execution_count": 12,
     "metadata": {},
     "output_type": "execute_result"
    },
    {
     "data": {
      "image/png": "[encoded data removed]",
      "text/plain": [
       "<Figure size 432x288 with 1 Axes>"
      ]
     },
     "metadata": {
      "needs_background": "light"
     },
     "output_type": "display_data"
    }
   ],
   "source": [
    "sns.scatterplot(x='rank',y='salary',data=df)"
   ]
  },
  {
   "cell_type": "code",
   "execution_count": 13,
   "id": "94127611",
   "metadata": {},
   "outputs": [
    {
     "data": {
      "text/plain": [
       "<AxesSubplot:xlabel='discipline', ylabel='count'>"
      ]
     },
     "execution_count": 13,
     "metadata": {},
     "output_type": "execute_result"
    },
    {
     "data": {
      "image/png": "[encoded data removed]",
      "text/plain": [
       "<Figure size 432x288 with 1 Axes>"
      ]
     },
     "metadata": {
      "needs_background": "light"
     },
     "output_type": "display_data"
    }
   ],
   "source": [
    "sns.countplot(x='discipline', data=df) # More professiors have discipline B"
   ]
  },
  {
   "cell_type": "code",
   "execution_count": 14,
   "id": "d56642e7",
   "metadata": {},
   "outputs": [
    {
     "data": {
      "text/plain": [
       "<AxesSubplot:xlabel='rank', ylabel='count'>"
      ]
     },
     "execution_count": 14,
     "metadata": {},
     "output_type": "execute_result"
    },
    {
     "data": {
      "image/png": "[encoded data removed]",
      "text/plain": [
       "<Figure size 432x288 with 1 Axes>"
      ]
     },
     "metadata": {
      "needs_background": "light"
     },
     "output_type": "display_data"
    }
   ],
   "source": [
    "sns.countplot('rank', data=df)"
   ]
  },
  {
   "cell_type": "code",
   "execution_count": 15,
   "id": "f2ea1caf",
   "metadata": {},
   "outputs": [
    {
     "data": {
      "text/plain": [
       "Prof         266\n",
       "AsstProf      67\n",
       "AssocProf     64\n",
       "Name: rank, dtype: int64"
      ]
     },
     "execution_count": 15,
     "metadata": {},
     "output_type": "execute_result"
    }
   ],
   "source": [
    "df['rank'].value_counts()  # Prof count is 266, associate prof is 64  and associate prof is 67"
   ]
  },
  {
   "cell_type": "code",
   "execution_count": 16,
   "id": "f562d70b",
   "metadata": {},
   "outputs": [
    {
     "data": {
      "text/plain": [
       "<AxesSubplot:xlabel='rank', ylabel='count'>"
      ]
     },
     "execution_count": 16,
     "metadata": {},
     "output_type": "execute_result"
    },
    {
     "data": {
      "image/png": "[encoded data removed]",
      "text/plain": [
       "<Figure size 432x288 with 1 Axes>"
      ]
     },
     "metadata": {
      "needs_background": "light"
     },
     "output_type": "display_data"
    }
   ],
   "source": [
    "sns.countplot(x='rank',hue='discipline', data=df)"
   ]
  },
  {
   "cell_type": "code",
   "execution_count": 17,
   "id": "bfe1c4e4",
   "metadata": {},
   "outputs": [],
   "source": [
    "# Mostly prof, assoprof, asstprof have discipline B"
   ]
  },
  {
   "cell_type": "code",
   "execution_count": 18,
   "id": "67c0bbf9",
   "metadata": {},
   "outputs": [
    {
     "data": {
      "text/plain": [
       "<AxesSubplot:xlabel='rank', ylabel='yrs.service'>"
      ]
     },
     "execution_count": 18,
     "metadata": {},
     "output_type": "execute_result"
    },
    {
     "data": {
      "image/png": "[encoded data removed]",
      "text/plain": [
       "<Figure size 432x288 with 1 Axes>"
      ]
     },
     "metadata": {
      "needs_background": "light"
     },
     "output_type": "display_data"
    }
   ],
   "source": [
    "sns.scatterplot(x='rank',y='yrs.service', data=df)"
   ]
  },
  {
   "cell_type": "code",
   "execution_count": 19,
   "id": "1e18684d",
   "metadata": {},
   "outputs": [
    {
     "data": {
      "text/plain": [
       "<AxesSubplot:xlabel='sex', ylabel='count'>"
      ]
     },
     "execution_count": 19,
     "metadata": {},
     "output_type": "execute_result"
    },
    {
     "data": {
      "image/png": "[encoded data removed]",
      "text/plain": [
       "<Figure size 432x288 with 1 Axes>"
      ]
     },
     "metadata": {
      "needs_background": "light"
     },
     "output_type": "display_data"
    }
   ],
   "source": [
    "# Male vs Female in rank\n",
    "sns.countplot(x='sex',data=df)  # We have majority of Male Proff"
   ]
  },
  {
   "cell_type": "code",
   "execution_count": 20,
   "id": "042ff394",
   "metadata": {},
   "outputs": [],
   "source": [
    "gender=df['sex'].value_counts().index"
   ]
  },
  {
   "cell_type": "code",
   "execution_count": 21,
   "id": "89d07d14",
   "metadata": {},
   "outputs": [
    {
     "data": {
      "text/plain": [
       "Index(['Male', 'Female'], dtype='object')"
      ]
     },
     "execution_count": 21,
     "metadata": {},
     "output_type": "execute_result"
    }
   ],
   "source": [
    "gender"
   ]
  },
  {
   "cell_type": "code",
   "execution_count": 22,
   "id": "c190363e",
   "metadata": {},
   "outputs": [
    {
     "data": {
      "text/plain": [
       "array([358,  39], dtype=int64)"
      ]
     },
     "execution_count": 22,
     "metadata": {},
     "output_type": "execute_result"
    }
   ],
   "source": [
    "gender_value= df['sex'].value_counts().values\n",
    "gender_value"
   ]
  },
  {
   "cell_type": "code",
   "execution_count": 23,
   "id": "9037b6f8",
   "metadata": {},
   "outputs": [
    {
     "data": {
      "text/plain": [
       "([<matplotlib.patches.Wedge at 0x2a1cac62b20>,\n",
       "  <matplotlib.patches.Wedge at 0x2a1cac70250>],\n",
       " [Text(-1.0480290059707078, 0.3341185457948273, 'Male'),\n",
       "  Text(1.0480289825088784, -0.3341186193874942, 'Female')],\n",
       " [Text(-0.5716521850749315, 0.18224647952445122, '90.18%'),\n",
       "  Text(0.57165217227757, -0.1822465196659059, '9.82%')])"
      ]
     },
     "execution_count": 23,
     "metadata": {},
     "output_type": "execute_result"
    },
    {
     "data": {
      "image/png": "[encoded data removed]",
      "text/plain": [
       "<Figure size 432x288 with 1 Axes>"
      ]
     },
     "metadata": {},
     "output_type": "display_data"
    }
   ],
   "source": [
    "plt.pie(gender_value, labels=gender, autopct=\"%1.2f%%\")"
   ]
  },
  {
   "cell_type": "code",
   "execution_count": 24,
   "id": "04d85fe2",
   "metadata": {},
   "outputs": [],
   "source": [
    "# Conslusion:  90% are Male professor and 10% are female professor"
   ]
  },
  {
   "cell_type": "code",
   "execution_count": 25,
   "id": "155a6322",
   "metadata": {},
   "outputs": [],
   "source": [
    "rank=df['rank'].value_counts().index"
   ]
  },
  {
   "cell_type": "code",
   "execution_count": 26,
   "id": "a07ced55",
   "metadata": {},
   "outputs": [],
   "source": [
    "rankvalue=df['rank'].value_counts().values"
   ]
  },
  {
   "cell_type": "code",
   "execution_count": 27,
   "id": "513f6e00",
   "metadata": {},
   "outputs": [
    {
     "data": {
      "text/plain": [
       "([<matplotlib.patches.Wedge at 0x2a1caadc8b0>,\n",
       "  <matplotlib.patches.Wedge at 0x2a1c9058e50>,\n",
       "  <matplotlib.patches.Wedge at 0x2a1cab2fc10>],\n",
       " [Text(-0.5600204235664406, 0.9467719499375045, 'Prof'),\n",
       "  Text(0.030462284581484863, -1.0995781232900539, 'AsstProf'),\n",
       "  Text(0.9619174276875219, -0.5335867898580523, 'AssocProf')],\n",
       " [Text(-0.30546568558169485, 0.5164210636022751, '67.00%'),\n",
       "  Text(0.01661579158990083, -0.5997698854309383, '16.88%'),\n",
       "  Text(0.5246822332841028, -0.291047339922574, '16.12%')])"
      ]
     },
     "execution_count": 27,
     "metadata": {},
     "output_type": "execute_result"
    },
    {
     "data": {
      "image/png": "[encoded data removed]",
      "text/plain": [
       "<Figure size 432x288 with 1 Axes>"
      ]
     },
     "metadata": {},
     "output_type": "display_data"
    }
   ],
   "source": [
    "plt.pie(rankvalue, labels=rank, autopct=\"%1.2f%%\")"
   ]
  },
  {
   "cell_type": "code",
   "execution_count": 28,
   "id": "8eaacf7f",
   "metadata": {},
   "outputs": [],
   "source": [
    "# Conclusion:  67% are professor, 16.88 are asst professor while 16.12% are associate professor"
   ]
  },
  {
   "cell_type": "code",
   "execution_count": 29,
   "id": "19de6df6",
   "metadata": {},
   "outputs": [
    {
     "data": {
      "text/plain": [
       "<AxesSubplot:xlabel='rank', ylabel='count'>"
      ]
     },
     "execution_count": 29,
     "metadata": {},
     "output_type": "execute_result"
    },
    {
     "data": {
      "image/png": "[encoded data removed]",
      "text/plain": [
       "<Figure size 432x288 with 1 Axes>"
      ]
     },
     "metadata": {
      "needs_background": "light"
     },
     "output_type": "display_data"
    }
   ],
   "source": [
    "sns.countplot(x='rank',hue='sex', data=df)"
   ]
  },
  {
   "cell_type": "code",
   "execution_count": 30,
   "id": "dcc6d728",
   "metadata": {},
   "outputs": [
    {
     "data": {
      "text/plain": [
       "<AxesSubplot:xlabel='rank', ylabel='salary'>"
      ]
     },
     "execution_count": 30,
     "metadata": {},
     "output_type": "execute_result"
    },
    {
     "data": {
      "image/png": "[encoded data removed]",
      "text/plain": [
       "<Figure size 432x288 with 1 Axes>"
      ]
     },
     "metadata": {
      "needs_background": "light"
     },
     "output_type": "display_data"
    }
   ],
   "source": [
    "sns.histplot(x='rank',y='salary',hue='sex', data=df)"
   ]
  },
  {
   "cell_type": "code",
   "execution_count": 31,
   "id": "42ca3c52",
   "metadata": {},
   "outputs": [
    {
     "data": {
      "text/plain": [
       "rank       sex   \n",
       "AssocProf  Female     10\n",
       "           Male       54\n",
       "AsstProf   Female     11\n",
       "           Male       56\n",
       "Prof       Female     18\n",
       "           Male      248\n",
       "Name: sex, dtype: int64"
      ]
     },
     "execution_count": 31,
     "metadata": {},
     "output_type": "execute_result"
    }
   ],
   "source": [
    "df.groupby(['rank','sex'])['sex'].count()"
   ]
  },
  {
   "cell_type": "code",
   "execution_count": 32,
   "id": "7757c0cb",
   "metadata": {},
   "outputs": [],
   "source": [
    "# Observation: Although femals are only 10% in which more Female are Professor"
   ]
  },
  {
   "cell_type": "code",
   "execution_count": 33,
   "id": "9fa104f9",
   "metadata": {},
   "outputs": [
    {
     "data": {
      "text/html": [
       "<div>\n",
       "<style scoped>\n",
       "    .dataframe tbody tr th:only-of-type {\n",
       "        vertical-align: middle;\n",
       "    }\n",
       "\n",
       "    .dataframe tbody tr th {\n",
       "        vertical-align: top;\n",
       "    }\n",
       "\n",
       "    .dataframe thead th {\n",
       "        text-align: right;\n",
       "    }\n",
       "</style>\n",
       "<table border=\"1\" class=\"dataframe\">\n",
       "  <thead>\n",
       "    <tr style=\"text-align: right;\">\n",
       "      <th></th>\n",
       "      <th>rank</th>\n",
       "      <th>discipline</th>\n",
       "      <th>yrs.since.phd</th>\n",
       "      <th>yrs.service</th>\n",
       "      <th>sex</th>\n",
       "      <th>salary</th>\n",
       "    </tr>\n",
       "  </thead>\n",
       "  <tbody>\n",
       "    <tr>\n",
       "      <th>0</th>\n",
       "      <td>Prof</td>\n",
       "      <td>B</td>\n",
       "      <td>19</td>\n",
       "      <td>18</td>\n",
       "      <td>Male</td>\n",
       "      <td>139750</td>\n",
       "    </tr>\n",
       "    <tr>\n",
       "      <th>1</th>\n",
       "      <td>Prof</td>\n",
       "      <td>B</td>\n",
       "      <td>20</td>\n",
       "      <td>16</td>\n",
       "      <td>Male</td>\n",
       "      <td>173200</td>\n",
       "    </tr>\n",
       "    <tr>\n",
       "      <th>2</th>\n",
       "      <td>AsstProf</td>\n",
       "      <td>B</td>\n",
       "      <td>4</td>\n",
       "      <td>3</td>\n",
       "      <td>Male</td>\n",
       "      <td>79750</td>\n",
       "    </tr>\n",
       "    <tr>\n",
       "      <th>3</th>\n",
       "      <td>Prof</td>\n",
       "      <td>B</td>\n",
       "      <td>45</td>\n",
       "      <td>39</td>\n",
       "      <td>Male</td>\n",
       "      <td>115000</td>\n",
       "    </tr>\n",
       "    <tr>\n",
       "      <th>4</th>\n",
       "      <td>Prof</td>\n",
       "      <td>B</td>\n",
       "      <td>40</td>\n",
       "      <td>41</td>\n",
       "      <td>Male</td>\n",
       "      <td>141500</td>\n",
       "    </tr>\n",
       "  </tbody>\n",
       "</table>\n",
       "</div>"
      ],
      "text/plain": [
       "       rank discipline  yrs.since.phd  yrs.service   sex  salary\n",
       "0      Prof          B             19           18  Male  139750\n",
       "1      Prof          B             20           16  Male  173200\n",
       "2  AsstProf          B              4            3  Male   79750\n",
       "3      Prof          B             45           39  Male  115000\n",
       "4      Prof          B             40           41  Male  141500"
      ]
     },
     "execution_count": 33,
     "metadata": {},
     "output_type": "execute_result"
    }
   ],
   "source": [
    "\n",
    "df.head()"
   ]
  },
  {
   "cell_type": "markdown",
   "id": "d7bdfead",
   "metadata": {},
   "source": [
    "# Columns vs Salary"
   ]
  },
  {
   "cell_type": "code",
   "execution_count": 34,
   "id": "78e217d4",
   "metadata": {},
   "outputs": [
    {
     "data": {
      "text/plain": [
       "rank\n",
       "AssocProf     93876.437500\n",
       "AsstProf      80775.985075\n",
       "Prof         126772.109023\n",
       "Name: salary, dtype: float64"
      ]
     },
     "execution_count": 34,
     "metadata": {},
     "output_type": "execute_result"
    }
   ],
   "source": [
    "#Mean salary of rankwise\n",
    "df.groupby('rank')['salary'].mean()"
   ]
  },
  {
   "cell_type": "code",
   "execution_count": 35,
   "id": "a35eabd6",
   "metadata": {},
   "outputs": [
    {
     "data": {
      "text/plain": [
       "<seaborn.axisgrid.PairGrid at 0x2a1cad0d670>"
      ]
     },
     "execution_count": 35,
     "metadata": {},
     "output_type": "execute_result"
    },
    {
     "data": {
      "image/png": "[encoded data removed]",
      "text/plain": [
       "<Figure size 540x540 with 12 Axes>"
      ]
     },
     "metadata": {
      "needs_background": "light"
     },
     "output_type": "display_data"
    }
   ],
   "source": [
    "sns.pairplot(df)"
   ]
  },
  {
   "cell_type": "code",
   "execution_count": 36,
   "id": "793f914f",
   "metadata": {},
   "outputs": [
    {
     "data": {
      "text/plain": [
       "<AxesSubplot:xlabel='yrs.since.phd', ylabel='Density'>"
      ]
     },
     "execution_count": 36,
     "metadata": {},
     "output_type": "execute_result"
    },
    {
     "data": {
      "image/png": "[encoded data removed]",
      "text/plain": [
       "<Figure size 432x288 with 1 Axes>"
      ]
     },
     "metadata": {
      "needs_background": "light"
     },
     "output_type": "display_data"
    }
   ],
   "source": [
    "\n",
    "sns.distplot(df['yrs.since.phd'])"
   ]
  },
  {
   "cell_type": "code",
   "execution_count": 37,
   "id": "f50fe1ff",
   "metadata": {},
   "outputs": [
    {
     "data": {
      "text/plain": [
       "<AxesSubplot:xlabel='yrs.service', ylabel='Density'>"
      ]
     },
     "execution_count": 37,
     "metadata": {},
     "output_type": "execute_result"
    },
    {
     "data": {
      "image/png": "[encoded data removed]",
      "text/plain": [
       "<Figure size 432x288 with 1 Axes>"
      ]
     },
     "metadata": {
      "needs_background": "light"
     },
     "output_type": "display_data"
    }
   ],
   "source": [
    "sns.distplot(df['yrs.service'])"
   ]
  },
  {
   "cell_type": "code",
   "execution_count": 38,
   "id": "ebe48c9b",
   "metadata": {},
   "outputs": [
    {
     "data": {
      "text/plain": [
       "<AxesSubplot:xlabel='salary', ylabel='Density'>"
      ]
     },
     "execution_count": 38,
     "metadata": {},
     "output_type": "execute_result"
    },
    {
     "data": {
      "image/png": "[encoded data removed]",
      "text/plain": [
       "<Figure size 432x288 with 1 Axes>"
      ]
     },
     "metadata": {
      "needs_background": "light"
     },
     "output_type": "display_data"
    }
   ],
   "source": [
    "\n",
    "sns.distplot(df['salary'])"
   ]
  },
  {
   "cell_type": "code",
   "execution_count": 39,
   "id": "c1583fe9",
   "metadata": {},
   "outputs": [],
   "source": [
    "\n",
    "# Skewness present in coulumns"
   ]
  },
  {
   "cell_type": "code",
   "execution_count": 40,
   "id": "be4ce46e",
   "metadata": {},
   "outputs": [
    {
     "data": {
      "text/html": [
       "<div>\n",
       "<style scoped>\n",
       "    .dataframe tbody tr th:only-of-type {\n",
       "        vertical-align: middle;\n",
       "    }\n",
       "\n",
       "    .dataframe tbody tr th {\n",
       "        vertical-align: top;\n",
       "    }\n",
       "\n",
       "    .dataframe thead th {\n",
       "        text-align: right;\n",
       "    }\n",
       "</style>\n",
       "<table border=\"1\" class=\"dataframe\">\n",
       "  <thead>\n",
       "    <tr style=\"text-align: right;\">\n",
       "      <th></th>\n",
       "      <th>yrs.since.phd</th>\n",
       "      <th>yrs.service</th>\n",
       "      <th>salary</th>\n",
       "    </tr>\n",
       "  </thead>\n",
       "  <tbody>\n",
       "    <tr>\n",
       "      <th>count</th>\n",
       "      <td>397.000000</td>\n",
       "      <td>397.000000</td>\n",
       "      <td>397.000000</td>\n",
       "    </tr>\n",
       "    <tr>\n",
       "      <th>mean</th>\n",
       "      <td>22.314861</td>\n",
       "      <td>17.614610</td>\n",
       "      <td>113706.458438</td>\n",
       "    </tr>\n",
       "    <tr>\n",
       "      <th>std</th>\n",
       "      <td>12.887003</td>\n",
       "      <td>13.006024</td>\n",
       "      <td>30289.038695</td>\n",
       "    </tr>\n",
       "    <tr>\n",
       "      <th>min</th>\n",
       "      <td>1.000000</td>\n",
       "      <td>0.000000</td>\n",
       "      <td>57800.000000</td>\n",
       "    </tr>\n",
       "    <tr>\n",
       "      <th>25%</th>\n",
       "      <td>12.000000</td>\n",
       "      <td>7.000000</td>\n",
       "      <td>91000.000000</td>\n",
       "    </tr>\n",
       "    <tr>\n",
       "      <th>50%</th>\n",
       "      <td>21.000000</td>\n",
       "      <td>16.000000</td>\n",
       "      <td>107300.000000</td>\n",
       "    </tr>\n",
       "    <tr>\n",
       "      <th>75%</th>\n",
       "      <td>32.000000</td>\n",
       "      <td>27.000000</td>\n",
       "      <td>134185.000000</td>\n",
       "    </tr>\n",
       "    <tr>\n",
       "      <th>max</th>\n",
       "      <td>56.000000</td>\n",
       "      <td>60.000000</td>\n",
       "      <td>231545.000000</td>\n",
       "    </tr>\n",
       "  </tbody>\n",
       "</table>\n",
       "</div>"
      ],
      "text/plain": [
       "       yrs.since.phd  yrs.service         salary\n",
       "count     397.000000   397.000000     397.000000\n",
       "mean       22.314861    17.614610  113706.458438\n",
       "std        12.887003    13.006024   30289.038695\n",
       "min         1.000000     0.000000   57800.000000\n",
       "25%        12.000000     7.000000   91000.000000\n",
       "50%        21.000000    16.000000  107300.000000\n",
       "75%        32.000000    27.000000  134185.000000\n",
       "max        56.000000    60.000000  231545.000000"
      ]
     },
     "execution_count": 40,
     "metadata": {},
     "output_type": "execute_result"
    }
   ],
   "source": [
    "df.describe()"
   ]
  },
  {
   "cell_type": "code",
   "execution_count": 41,
   "id": "e0bf8acc",
   "metadata": {},
   "outputs": [
    {
     "data": {
      "text/html": [
       "<div>\n",
       "<style scoped>\n",
       "    .dataframe tbody tr th:only-of-type {\n",
       "        vertical-align: middle;\n",
       "    }\n",
       "\n",
       "    .dataframe tbody tr th {\n",
       "        vertical-align: top;\n",
       "    }\n",
       "\n",
       "    .dataframe thead th {\n",
       "        text-align: right;\n",
       "    }\n",
       "</style>\n",
       "<table border=\"1\" class=\"dataframe\">\n",
       "  <thead>\n",
       "    <tr style=\"text-align: right;\">\n",
       "      <th></th>\n",
       "      <th>yrs.since.phd</th>\n",
       "      <th>yrs.service</th>\n",
       "      <th>salary</th>\n",
       "    </tr>\n",
       "  </thead>\n",
       "  <tbody>\n",
       "    <tr>\n",
       "      <th>yrs.since.phd</th>\n",
       "      <td>1.000000</td>\n",
       "      <td>0.909649</td>\n",
       "      <td>0.419231</td>\n",
       "    </tr>\n",
       "    <tr>\n",
       "      <th>yrs.service</th>\n",
       "      <td>0.909649</td>\n",
       "      <td>1.000000</td>\n",
       "      <td>0.334745</td>\n",
       "    </tr>\n",
       "    <tr>\n",
       "      <th>salary</th>\n",
       "      <td>0.419231</td>\n",
       "      <td>0.334745</td>\n",
       "      <td>1.000000</td>\n",
       "    </tr>\n",
       "  </tbody>\n",
       "</table>\n",
       "</div>"
      ],
      "text/plain": [
       "               yrs.since.phd  yrs.service    salary\n",
       "yrs.since.phd       1.000000     0.909649  0.419231\n",
       "yrs.service         0.909649     1.000000  0.334745\n",
       "salary              0.419231     0.334745  1.000000"
      ]
     },
     "execution_count": 41,
     "metadata": {},
     "output_type": "execute_result"
    }
   ],
   "source": [
    "df.corr()"
   ]
  },
  {
   "cell_type": "code",
   "execution_count": 42,
   "id": "4ce50dcd",
   "metadata": {},
   "outputs": [
    {
     "data": {
      "text/plain": [
       "<AxesSubplot:>"
      ]
     },
     "execution_count": 42,
     "metadata": {},
     "output_type": "execute_result"
    },
    {
     "data": {
      "image/png": "[encoded data removed]",
      "text/plain": [
       "<Figure size 432x288 with 2 Axes>"
      ]
     },
     "metadata": {
      "needs_background": "light"
     },
     "output_type": "display_data"
    }
   ],
   "source": [
    "sns.heatmap(df.corr(), annot=True, linecolor='white',linewidths=.25)"
   ]
  },
  {
   "cell_type": "code",
   "execution_count": 43,
   "id": "eb7e5285",
   "metadata": {},
   "outputs": [],
   "source": [
    "df.drop('yrs.service',axis=1, inplace=True)"
   ]
  },
  {
   "cell_type": "code",
   "execution_count": 44,
   "id": "45bd7f54",
   "metadata": {},
   "outputs": [
    {
     "data": {
      "text/html": [
       "<div>\n",
       "<style scoped>\n",
       "    .dataframe tbody tr th:only-of-type {\n",
       "        vertical-align: middle;\n",
       "    }\n",
       "\n",
       "    .dataframe tbody tr th {\n",
       "        vertical-align: top;\n",
       "    }\n",
       "\n",
       "    .dataframe thead th {\n",
       "        text-align: right;\n",
       "    }\n",
       "</style>\n",
       "<table border=\"1\" class=\"dataframe\">\n",
       "  <thead>\n",
       "    <tr style=\"text-align: right;\">\n",
       "      <th></th>\n",
       "      <th>rank</th>\n",
       "      <th>discipline</th>\n",
       "      <th>yrs.since.phd</th>\n",
       "      <th>sex</th>\n",
       "      <th>salary</th>\n",
       "    </tr>\n",
       "  </thead>\n",
       "  <tbody>\n",
       "    <tr>\n",
       "      <th>0</th>\n",
       "      <td>Prof</td>\n",
       "      <td>B</td>\n",
       "      <td>19</td>\n",
       "      <td>Male</td>\n",
       "      <td>139750</td>\n",
       "    </tr>\n",
       "    <tr>\n",
       "      <th>1</th>\n",
       "      <td>Prof</td>\n",
       "      <td>B</td>\n",
       "      <td>20</td>\n",
       "      <td>Male</td>\n",
       "      <td>173200</td>\n",
       "    </tr>\n",
       "    <tr>\n",
       "      <th>2</th>\n",
       "      <td>AsstProf</td>\n",
       "      <td>B</td>\n",
       "      <td>4</td>\n",
       "      <td>Male</td>\n",
       "      <td>79750</td>\n",
       "    </tr>\n",
       "    <tr>\n",
       "      <th>3</th>\n",
       "      <td>Prof</td>\n",
       "      <td>B</td>\n",
       "      <td>45</td>\n",
       "      <td>Male</td>\n",
       "      <td>115000</td>\n",
       "    </tr>\n",
       "    <tr>\n",
       "      <th>4</th>\n",
       "      <td>Prof</td>\n",
       "      <td>B</td>\n",
       "      <td>40</td>\n",
       "      <td>Male</td>\n",
       "      <td>141500</td>\n",
       "    </tr>\n",
       "  </tbody>\n",
       "</table>\n",
       "</div>"
      ],
      "text/plain": [
       "       rank discipline  yrs.since.phd   sex  salary\n",
       "0      Prof          B             19  Male  139750\n",
       "1      Prof          B             20  Male  173200\n",
       "2  AsstProf          B              4  Male   79750\n",
       "3      Prof          B             45  Male  115000\n",
       "4      Prof          B             40  Male  141500"
      ]
     },
     "execution_count": 44,
     "metadata": {},
     "output_type": "execute_result"
    }
   ],
   "source": [
    "df.head()"
   ]
  },
  {
   "cell_type": "code",
   "execution_count": 45,
   "id": "d8032fcc",
   "metadata": {},
   "outputs": [
    {
     "data": {
      "text/html": [
       "<div>\n",
       "<style scoped>\n",
       "    .dataframe tbody tr th:only-of-type {\n",
       "        vertical-align: middle;\n",
       "    }\n",
       "\n",
       "    .dataframe tbody tr th {\n",
       "        vertical-align: top;\n",
       "    }\n",
       "\n",
       "    .dataframe thead th {\n",
       "        text-align: right;\n",
       "    }\n",
       "</style>\n",
       "<table border=\"1\" class=\"dataframe\">\n",
       "  <thead>\n",
       "    <tr style=\"text-align: right;\">\n",
       "      <th></th>\n",
       "      <th>rank</th>\n",
       "      <th>discipline</th>\n",
       "      <th>sex</th>\n",
       "    </tr>\n",
       "  </thead>\n",
       "  <tbody>\n",
       "    <tr>\n",
       "      <th>0</th>\n",
       "      <td>Prof</td>\n",
       "      <td>B</td>\n",
       "      <td>Male</td>\n",
       "    </tr>\n",
       "    <tr>\n",
       "      <th>1</th>\n",
       "      <td>Prof</td>\n",
       "      <td>B</td>\n",
       "      <td>Male</td>\n",
       "    </tr>\n",
       "    <tr>\n",
       "      <th>2</th>\n",
       "      <td>AsstProf</td>\n",
       "      <td>B</td>\n",
       "      <td>Male</td>\n",
       "    </tr>\n",
       "    <tr>\n",
       "      <th>3</th>\n",
       "      <td>Prof</td>\n",
       "      <td>B</td>\n",
       "      <td>Male</td>\n",
       "    </tr>\n",
       "    <tr>\n",
       "      <th>4</th>\n",
       "      <td>Prof</td>\n",
       "      <td>B</td>\n",
       "      <td>Male</td>\n",
       "    </tr>\n",
       "    <tr>\n",
       "      <th>...</th>\n",
       "      <td>...</td>\n",
       "      <td>...</td>\n",
       "      <td>...</td>\n",
       "    </tr>\n",
       "    <tr>\n",
       "      <th>392</th>\n",
       "      <td>Prof</td>\n",
       "      <td>A</td>\n",
       "      <td>Male</td>\n",
       "    </tr>\n",
       "    <tr>\n",
       "      <th>393</th>\n",
       "      <td>Prof</td>\n",
       "      <td>A</td>\n",
       "      <td>Male</td>\n",
       "    </tr>\n",
       "    <tr>\n",
       "      <th>394</th>\n",
       "      <td>Prof</td>\n",
       "      <td>A</td>\n",
       "      <td>Male</td>\n",
       "    </tr>\n",
       "    <tr>\n",
       "      <th>395</th>\n",
       "      <td>Prof</td>\n",
       "      <td>A</td>\n",
       "      <td>Male</td>\n",
       "    </tr>\n",
       "    <tr>\n",
       "      <th>396</th>\n",
       "      <td>AsstProf</td>\n",
       "      <td>A</td>\n",
       "      <td>Male</td>\n",
       "    </tr>\n",
       "  </tbody>\n",
       "</table>\n",
       "<p>397 rows × 3 columns</p>\n",
       "</div>"
      ],
      "text/plain": [
       "         rank discipline   sex\n",
       "0        Prof          B  Male\n",
       "1        Prof          B  Male\n",
       "2    AsstProf          B  Male\n",
       "3        Prof          B  Male\n",
       "4        Prof          B  Male\n",
       "..        ...        ...   ...\n",
       "392      Prof          A  Male\n",
       "393      Prof          A  Male\n",
       "394      Prof          A  Male\n",
       "395      Prof          A  Male\n",
       "396  AsstProf          A  Male\n",
       "\n",
       "[397 rows x 3 columns]"
      ]
     },
     "execution_count": 45,
     "metadata": {},
     "output_type": "execute_result"
    }
   ],
   "source": [
    "df_cat=df[[column for column in df.columns if df[column].dtypes=='O']]\n",
    "df_cat"
   ]
  },
  {
   "cell_type": "code",
   "execution_count": 46,
   "id": "0dd4efab",
   "metadata": {},
   "outputs": [
    {
     "data": {
      "text/html": [
       "<div>\n",
       "<style scoped>\n",
       "    .dataframe tbody tr th:only-of-type {\n",
       "        vertical-align: middle;\n",
       "    }\n",
       "\n",
       "    .dataframe tbody tr th {\n",
       "        vertical-align: top;\n",
       "    }\n",
       "\n",
       "    .dataframe thead th {\n",
       "        text-align: right;\n",
       "    }\n",
       "</style>\n",
       "<table border=\"1\" class=\"dataframe\">\n",
       "  <thead>\n",
       "    <tr style=\"text-align: right;\">\n",
       "      <th></th>\n",
       "      <th>yrs.since.phd</th>\n",
       "      <th>salary</th>\n",
       "    </tr>\n",
       "  </thead>\n",
       "  <tbody>\n",
       "    <tr>\n",
       "      <th>0</th>\n",
       "      <td>19</td>\n",
       "      <td>139750</td>\n",
       "    </tr>\n",
       "    <tr>\n",
       "      <th>1</th>\n",
       "      <td>20</td>\n",
       "      <td>173200</td>\n",
       "    </tr>\n",
       "    <tr>\n",
       "      <th>2</th>\n",
       "      <td>4</td>\n",
       "      <td>79750</td>\n",
       "    </tr>\n",
       "    <tr>\n",
       "      <th>3</th>\n",
       "      <td>45</td>\n",
       "      <td>115000</td>\n",
       "    </tr>\n",
       "    <tr>\n",
       "      <th>4</th>\n",
       "      <td>40</td>\n",
       "      <td>141500</td>\n",
       "    </tr>\n",
       "    <tr>\n",
       "      <th>...</th>\n",
       "      <td>...</td>\n",
       "      <td>...</td>\n",
       "    </tr>\n",
       "    <tr>\n",
       "      <th>392</th>\n",
       "      <td>33</td>\n",
       "      <td>103106</td>\n",
       "    </tr>\n",
       "    <tr>\n",
       "      <th>393</th>\n",
       "      <td>31</td>\n",
       "      <td>150564</td>\n",
       "    </tr>\n",
       "    <tr>\n",
       "      <th>394</th>\n",
       "      <td>42</td>\n",
       "      <td>101738</td>\n",
       "    </tr>\n",
       "    <tr>\n",
       "      <th>395</th>\n",
       "      <td>25</td>\n",
       "      <td>95329</td>\n",
       "    </tr>\n",
       "    <tr>\n",
       "      <th>396</th>\n",
       "      <td>8</td>\n",
       "      <td>81035</td>\n",
       "    </tr>\n",
       "  </tbody>\n",
       "</table>\n",
       "<p>397 rows × 2 columns</p>\n",
       "</div>"
      ],
      "text/plain": [
       "     yrs.since.phd  salary\n",
       "0               19  139750\n",
       "1               20  173200\n",
       "2                4   79750\n",
       "3               45  115000\n",
       "4               40  141500\n",
       "..             ...     ...\n",
       "392             33  103106\n",
       "393             31  150564\n",
       "394             42  101738\n",
       "395             25   95329\n",
       "396              8   81035\n",
       "\n",
       "[397 rows x 2 columns]"
      ]
     },
     "execution_count": 46,
     "metadata": {},
     "output_type": "execute_result"
    }
   ],
   "source": [
    "df_num=df[[column for column in df.columns if df[column].dtypes !='O' ]]\n",
    "df_num"
   ]
  },
  {
   "cell_type": "markdown",
   "id": "5db031cf",
   "metadata": {},
   "source": [
    "# Outliers checking"
   ]
  },
  {
   "cell_type": "code",
   "execution_count": 47,
   "id": "0ce61520",
   "metadata": {},
   "outputs": [
    {
     "data": {
      "text/plain": [
       "<AxesSubplot:>"
      ]
     },
     "execution_count": 47,
     "metadata": {},
     "output_type": "execute_result"
    },
    {
     "data": {
      "image/png": "[encoded data removed]",
      "text/plain": [
       "<Figure size 432x288 with 1 Axes>"
      ]
     },
     "metadata": {
      "needs_background": "light"
     },
     "output_type": "display_data"
    }
   ],
   "source": [
    "df_num.boxplot()"
   ]
  },
  {
   "cell_type": "code",
   "execution_count": 48,
   "id": "04f57e63",
   "metadata": {},
   "outputs": [
    {
     "data": {
      "text/plain": [
       "<AxesSubplot:xlabel='yrs.since.phd'>"
      ]
     },
     "execution_count": 48,
     "metadata": {},
     "output_type": "execute_result"
    },
    {
     "data": {
      "image/png": "[encoded data removed]",
      "text/plain": [
       "<Figure size 432x288 with 1 Axes>"
      ]
     },
     "metadata": {
      "needs_background": "light"
     },
     "output_type": "display_data"
    }
   ],
   "source": [
    "sns.boxplot(df['yrs.since.phd'],orient='h' )"
   ]
  },
  {
   "cell_type": "code",
   "execution_count": 49,
   "id": "71b3bde6",
   "metadata": {},
   "outputs": [
    {
     "data": {
      "text/plain": [
       "<AxesSubplot:xlabel='salary'>"
      ]
     },
     "execution_count": 49,
     "metadata": {},
     "output_type": "execute_result"
    },
    {
     "data": {
      "image/png": "[encoded data removed]",
      "text/plain": [
       "<Figure size 432x288 with 1 Axes>"
      ]
     },
     "metadata": {
      "needs_background": "light"
     },
     "output_type": "display_data"
    }
   ],
   "source": [
    "sns.boxplot(df['salary'],orient='h' )"
   ]
  },
  {
   "cell_type": "code",
   "execution_count": 50,
   "id": "c14b5574",
   "metadata": {},
   "outputs": [
    {
     "data": {
      "text/plain": [
       "yrs.since.phd    0.300880\n",
       "salary           0.714568\n",
       "dtype: float64"
      ]
     },
     "execution_count": 50,
     "metadata": {},
     "output_type": "execute_result"
    }
   ],
   "source": [
    "# Conclusion:  Salary have few outliers, we need to handle them\n",
    "df_num.skew()"
   ]
  },
  {
   "cell_type": "code",
   "execution_count": 51,
   "id": "e8fec8f0",
   "metadata": {},
   "outputs": [
    {
     "data": {
      "text/plain": [
       "152946.00000000003"
      ]
     },
     "execution_count": 51,
     "metadata": {},
     "output_type": "execute_result"
    }
   ],
   "source": [
    "#Replacing outlier with higher cap (90%) here as outliers are above.\n",
    "\n",
    "df_num['salary'].quantile(.90)"
   ]
  },
  {
   "cell_type": "code",
   "execution_count": 52,
   "id": "ec3e04b1",
   "metadata": {},
   "outputs": [
    {
     "data": {
      "text/plain": [
       "231545"
      ]
     },
     "execution_count": 52,
     "metadata": {},
     "output_type": "execute_result"
    }
   ],
   "source": [
    "df_num['salary'].max()"
   ]
  },
  {
   "cell_type": "code",
   "execution_count": 53,
   "id": "98a1a4e1",
   "metadata": {},
   "outputs": [],
   "source": [
    "#df['salary']= np.where(df['salary']>high,high,df['salary'])"
   ]
  },
  {
   "cell_type": "markdown",
   "id": "7dfc6e4c",
   "metadata": {},
   "source": [
    "# (IQR) proximity rule."
   ]
  },
  {
   "cell_type": "markdown",
   "id": "5b604a11",
   "metadata": {},
   "source": [
    "The data points which fall below Q1 – 1.5 IQR or above Q3 + 1.5 IQR are outliers."
   ]
  },
  {
   "cell_type": "code",
   "execution_count": 54,
   "id": "3602248a",
   "metadata": {},
   "outputs": [
    {
     "data": {
      "text/plain": [
       "<AxesSubplot:xlabel='salary', ylabel='Density'>"
      ]
     },
     "execution_count": 54,
     "metadata": {},
     "output_type": "execute_result"
    },
    {
     "data": {
      "image/png": "[encoded data removed]",
      "text/plain": [
       "<Figure size 432x288 with 1 Axes>"
      ]
     },
     "metadata": {
      "needs_background": "light"
     },
     "output_type": "display_data"
    }
   ],
   "source": [
    "sns.distplot(df_num['salary'])"
   ]
  },
  {
   "cell_type": "code",
   "execution_count": 55,
   "id": "bb0d237d",
   "metadata": {},
   "outputs": [
    {
     "data": {
      "text/plain": [
       "43185.0"
      ]
     },
     "execution_count": 55,
     "metadata": {},
     "output_type": "execute_result"
    }
   ],
   "source": [
    "IQR= df.salary.quantile(.75)- df.salary.quantile(.25)\n",
    "IQR"
   ]
  },
  {
   "cell_type": "code",
   "execution_count": 56,
   "id": "0e8be28f",
   "metadata": {},
   "outputs": [
    {
     "data": {
      "text/plain": [
       "198962.5"
      ]
     },
     "execution_count": 56,
     "metadata": {},
     "output_type": "execute_result"
    }
   ],
   "source": [
    "# Q3 + 1.5 IQR are outliers.\n",
    "\n",
    "upper_cap= df_num['salary'].quantile(.75)+ (1.5 * IQR)\n",
    "upper_cap"
   ]
  },
  {
   "cell_type": "code",
   "execution_count": 57,
   "id": "c4d51163",
   "metadata": {},
   "outputs": [],
   "source": [
    "# Replace outliers with upper cap\n",
    "\n",
    "df_num['salary']= np.where(df_num['salary']>upper_cap,upper_cap,df_num['salary']  )"
   ]
  },
  {
   "cell_type": "code",
   "execution_count": 58,
   "id": "bc4fe0cd",
   "metadata": {},
   "outputs": [
    {
     "data": {
      "text/plain": [
       "<AxesSubplot:xlabel='salary', ylabel='Density'>"
      ]
     },
     "execution_count": 58,
     "metadata": {},
     "output_type": "execute_result"
    },
    {
     "data": {
      "image/png": "[encoded data removed]",
      "text/plain": [
       "<Figure size 432x288 with 1 Axes>"
      ]
     },
     "metadata": {
      "needs_background": "light"
     },
     "output_type": "display_data"
    }
   ],
   "source": [
    "sns.distplot(df_num['salary'])"
   ]
  },
  {
   "cell_type": "code",
   "execution_count": 59,
   "id": "079861cb",
   "metadata": {},
   "outputs": [
    {
     "data": {
      "text/plain": [
       "yrs.since.phd    0.300880\n",
       "salary           0.630253\n",
       "dtype: float64"
      ]
     },
     "execution_count": 59,
     "metadata": {},
     "output_type": "execute_result"
    }
   ],
   "source": [
    "df_num.skew()"
   ]
  },
  {
   "cell_type": "code",
   "execution_count": 60,
   "id": "d37e7f46",
   "metadata": {},
   "outputs": [],
   "source": [
    "# It has removed some skewness from salary column, from .7145  to  .63.0"
   ]
  },
  {
   "cell_type": "code",
   "execution_count": 61,
   "id": "48f40762",
   "metadata": {},
   "outputs": [
    {
     "data": {
      "text/html": [
       "<div>\n",
       "<style scoped>\n",
       "    .dataframe tbody tr th:only-of-type {\n",
       "        vertical-align: middle;\n",
       "    }\n",
       "\n",
       "    .dataframe tbody tr th {\n",
       "        vertical-align: top;\n",
       "    }\n",
       "\n",
       "    .dataframe thead th {\n",
       "        text-align: right;\n",
       "    }\n",
       "</style>\n",
       "<table border=\"1\" class=\"dataframe\">\n",
       "  <thead>\n",
       "    <tr style=\"text-align: right;\">\n",
       "      <th></th>\n",
       "      <th>yrs.since.phd</th>\n",
       "      <th>salary</th>\n",
       "    </tr>\n",
       "  </thead>\n",
       "  <tbody>\n",
       "    <tr>\n",
       "      <th>0</th>\n",
       "      <td>19</td>\n",
       "      <td>139750.0</td>\n",
       "    </tr>\n",
       "    <tr>\n",
       "      <th>1</th>\n",
       "      <td>20</td>\n",
       "      <td>173200.0</td>\n",
       "    </tr>\n",
       "    <tr>\n",
       "      <th>2</th>\n",
       "      <td>4</td>\n",
       "      <td>79750.0</td>\n",
       "    </tr>\n",
       "    <tr>\n",
       "      <th>3</th>\n",
       "      <td>45</td>\n",
       "      <td>115000.0</td>\n",
       "    </tr>\n",
       "    <tr>\n",
       "      <th>4</th>\n",
       "      <td>40</td>\n",
       "      <td>141500.0</td>\n",
       "    </tr>\n",
       "    <tr>\n",
       "      <th>...</th>\n",
       "      <td>...</td>\n",
       "      <td>...</td>\n",
       "    </tr>\n",
       "    <tr>\n",
       "      <th>392</th>\n",
       "      <td>33</td>\n",
       "      <td>103106.0</td>\n",
       "    </tr>\n",
       "    <tr>\n",
       "      <th>393</th>\n",
       "      <td>31</td>\n",
       "      <td>150564.0</td>\n",
       "    </tr>\n",
       "    <tr>\n",
       "      <th>394</th>\n",
       "      <td>42</td>\n",
       "      <td>101738.0</td>\n",
       "    </tr>\n",
       "    <tr>\n",
       "      <th>395</th>\n",
       "      <td>25</td>\n",
       "      <td>95329.0</td>\n",
       "    </tr>\n",
       "    <tr>\n",
       "      <th>396</th>\n",
       "      <td>8</td>\n",
       "      <td>81035.0</td>\n",
       "    </tr>\n",
       "  </tbody>\n",
       "</table>\n",
       "<p>397 rows × 2 columns</p>\n",
       "</div>"
      ],
      "text/plain": [
       "     yrs.since.phd    salary\n",
       "0               19  139750.0\n",
       "1               20  173200.0\n",
       "2                4   79750.0\n",
       "3               45  115000.0\n",
       "4               40  141500.0\n",
       "..             ...       ...\n",
       "392             33  103106.0\n",
       "393             31  150564.0\n",
       "394             42  101738.0\n",
       "395             25   95329.0\n",
       "396              8   81035.0\n",
       "\n",
       "[397 rows x 2 columns]"
      ]
     },
     "execution_count": 61,
     "metadata": {},
     "output_type": "execute_result"
    }
   ],
   "source": [
    "\n",
    "df_num"
   ]
  },
  {
   "cell_type": "code",
   "execution_count": 62,
   "id": "0ec0ca15",
   "metadata": {},
   "outputs": [],
   "source": [
    "#Points\n",
    "x=df_num.iloc[:,:-1]\n",
    "y=df_num.iloc[:,-1]\n",
    "\n",
    "# we need to add categoricals columns to X after encoding"
   ]
  },
  {
   "cell_type": "code",
   "execution_count": 63,
   "id": "e696a9ee",
   "metadata": {},
   "outputs": [
    {
     "data": {
      "text/html": [
       "<div>\n",
       "<style scoped>\n",
       "    .dataframe tbody tr th:only-of-type {\n",
       "        vertical-align: middle;\n",
       "    }\n",
       "\n",
       "    .dataframe tbody tr th {\n",
       "        vertical-align: top;\n",
       "    }\n",
       "\n",
       "    .dataframe thead th {\n",
       "        text-align: right;\n",
       "    }\n",
       "</style>\n",
       "<table border=\"1\" class=\"dataframe\">\n",
       "  <thead>\n",
       "    <tr style=\"text-align: right;\">\n",
       "      <th></th>\n",
       "      <th>yrs.since.phd</th>\n",
       "    </tr>\n",
       "  </thead>\n",
       "  <tbody>\n",
       "    <tr>\n",
       "      <th>0</th>\n",
       "      <td>19</td>\n",
       "    </tr>\n",
       "    <tr>\n",
       "      <th>1</th>\n",
       "      <td>20</td>\n",
       "    </tr>\n",
       "    <tr>\n",
       "      <th>2</th>\n",
       "      <td>4</td>\n",
       "    </tr>\n",
       "    <tr>\n",
       "      <th>3</th>\n",
       "      <td>45</td>\n",
       "    </tr>\n",
       "    <tr>\n",
       "      <th>4</th>\n",
       "      <td>40</td>\n",
       "    </tr>\n",
       "    <tr>\n",
       "      <th>...</th>\n",
       "      <td>...</td>\n",
       "    </tr>\n",
       "    <tr>\n",
       "      <th>392</th>\n",
       "      <td>33</td>\n",
       "    </tr>\n",
       "    <tr>\n",
       "      <th>393</th>\n",
       "      <td>31</td>\n",
       "    </tr>\n",
       "    <tr>\n",
       "      <th>394</th>\n",
       "      <td>42</td>\n",
       "    </tr>\n",
       "    <tr>\n",
       "      <th>395</th>\n",
       "      <td>25</td>\n",
       "    </tr>\n",
       "    <tr>\n",
       "      <th>396</th>\n",
       "      <td>8</td>\n",
       "    </tr>\n",
       "  </tbody>\n",
       "</table>\n",
       "<p>397 rows × 1 columns</p>\n",
       "</div>"
      ],
      "text/plain": [
       "     yrs.since.phd\n",
       "0               19\n",
       "1               20\n",
       "2                4\n",
       "3               45\n",
       "4               40\n",
       "..             ...\n",
       "392             33\n",
       "393             31\n",
       "394             42\n",
       "395             25\n",
       "396              8\n",
       "\n",
       "[397 rows x 1 columns]"
      ]
     },
     "execution_count": 63,
     "metadata": {},
     "output_type": "execute_result"
    }
   ],
   "source": [
    "x"
   ]
  },
  {
   "cell_type": "markdown",
   "id": "f5904f68",
   "metadata": {},
   "source": [
    "# Transformation()"
   ]
  },
  {
   "cell_type": "code",
   "execution_count": 64,
   "id": "0f802b82",
   "metadata": {},
   "outputs": [],
   "source": [
    "from sklearn.preprocessing import power_transform\n",
    "x=power_transform(x, method='box-cox')"
   ]
  },
  {
   "cell_type": "markdown",
   "id": "c159e2f3",
   "metadata": {},
   "source": [
    "# Standardization()"
   ]
  },
  {
   "cell_type": "code",
   "execution_count": 65,
   "id": "eef4eebb",
   "metadata": {},
   "outputs": [
    {
     "data": {
      "text/plain": [
       "array([[-0.12294314],\n",
       "       [-0.04529591],\n",
       "       [-1.63292287],\n",
       "       [ 1.5595717 ],\n",
       "       [ 1.27543796],\n",
       "       [-1.36388746],\n",
       "       [ 0.66017251],\n",
       "       [ 1.5595717 ],\n",
       "       [ 0.03080915],\n",
       "       [-0.20224757],\n",
       "       [-0.72175875],\n",
       "       [-1.24319611],\n",
       "       [-2.18500357],\n",
       "       [-1.9654573 ],\n",
       "       [-0.04529591],\n",
       "       [-0.72175875],\n",
       "       [-0.12294314],\n",
       "       [ 1.15783006],\n",
       "       [ 1.09809659],\n",
       "       [ 1.21693637],\n",
       "       [ 0.72506668],\n",
       "       [ 1.03771209],\n",
       "       [ 0.91488629],\n",
       "       [ 0.25083761],\n",
       "       [-0.6289452 ],\n",
       "       [ 0.03080915],\n",
       "       [ 0.97665107],\n",
       "       [-1.49296969],\n",
       "       [-0.81773087],\n",
       "       [-0.72175875],\n",
       "       [-0.04529591],\n",
       "       [-1.24319611],\n",
       "       [-0.6289452 ],\n",
       "       [-1.63292287],\n",
       "       [-1.63292287],\n",
       "       [-1.49296969],\n",
       "       [ 0.10547402],\n",
       "       [-1.24319611],\n",
       "       [ 1.33335589],\n",
       "       [-1.02089518],\n",
       "       [ 0.17878967],\n",
       "       [ 0.17878967],\n",
       "       [ 1.27543796],\n",
       "       [ 1.15783006],\n",
       "       [-0.12294314],\n",
       "       [ 0.32169127],\n",
       "       [ 1.27543796],\n",
       "       [ 0.17878967],\n",
       "       [ 0.32169127],\n",
       "       [-2.18500357],\n",
       "       [ 0.52772122],\n",
       "       [-0.72175875],\n",
       "       [-0.81773087],\n",
       "       [-0.36636897],\n",
       "       [-0.72175875],\n",
       "       [-0.53895433],\n",
       "       [ 0.17878967],\n",
       "       [-1.02089518],\n",
       "       [-0.91727237],\n",
       "       [-1.1292516 ],\n",
       "       [-1.02089518],\n",
       "       [-1.78783443],\n",
       "       [ 0.85238857],\n",
       "       [-0.81773087],\n",
       "       [-1.63292287],\n",
       "       [-1.02089518],\n",
       "       [ 0.10547402],\n",
       "       [ 0.97665107],\n",
       "       [-0.28333976],\n",
       "       [ 0.52772122],\n",
       "       [-0.28333976],\n",
       "       [ 1.5595717 ],\n",
       "       [ 0.59440486],\n",
       "       [ 0.97665107],\n",
       "       [ 0.52772122],\n",
       "       [-1.1292516 ],\n",
       "       [-0.28333976],\n",
       "       [ 0.39141709],\n",
       "       [-1.78783443],\n",
       "       [-1.36388746],\n",
       "       [ 1.44751908],\n",
       "       [-0.28333976],\n",
       "       [ 0.10547402],\n",
       "       [-1.36388746],\n",
       "       [-0.28333976],\n",
       "       [-0.45150719],\n",
       "       [ 1.09809659],\n",
       "       [-1.9654573 ],\n",
       "       [ 0.32169127],\n",
       "       [-1.02089518],\n",
       "       [-0.91727237],\n",
       "       [-0.91727237],\n",
       "       [-0.91727237],\n",
       "       [ 1.15783006],\n",
       "       [ 0.03080915],\n",
       "       [-1.63292287],\n",
       "       [-0.28333976],\n",
       "       [-0.6289452 ],\n",
       "       [ 0.66017251],\n",
       "       [ 1.33335589],\n",
       "       [ 1.39071003],\n",
       "       [ 0.52772122],\n",
       "       [-0.36636897],\n",
       "       [-0.04529591],\n",
       "       [-0.20224757],\n",
       "       [ 0.72506668],\n",
       "       [-0.81773087],\n",
       "       [-0.91727237],\n",
       "       [-0.45150719],\n",
       "       [ 1.27543796],\n",
       "       [-0.04529591],\n",
       "       [-0.12294314],\n",
       "       [-1.78783443],\n",
       "       [ 1.09809659],\n",
       "       [-0.72175875],\n",
       "       [ 0.03080915],\n",
       "       [ 0.66017251],\n",
       "       [ 1.21693637],\n",
       "       [-1.63292287],\n",
       "       [-1.49296969],\n",
       "       [-0.53895433],\n",
       "       [ 0.78912659],\n",
       "       [ 0.25083761],\n",
       "       [ 0.32169127],\n",
       "       [ 0.25083761],\n",
       "       [ 2.04089557],\n",
       "       [ 0.52772122],\n",
       "       [-1.9654573 ],\n",
       "       [ 0.78912659],\n",
       "       [-1.63292287],\n",
       "       [-0.81773087],\n",
       "       [ 2.1433549 ],\n",
       "       [-0.91727237],\n",
       "       [-1.78783443],\n",
       "       [ 0.97665107],\n",
       "       [-0.04529591],\n",
       "       [-0.36636897],\n",
       "       [-0.28333976],\n",
       "       [-0.91727237],\n",
       "       [ 0.03080915],\n",
       "       [-0.53895433],\n",
       "       [-0.45150719],\n",
       "       [-0.12294314],\n",
       "       [-1.78783443],\n",
       "       [ 0.46007541],\n",
       "       [ 0.52772122],\n",
       "       [-1.63292287],\n",
       "       [ 0.46007541],\n",
       "       [ 1.03771209],\n",
       "       [-1.63292287],\n",
       "       [-0.53895433],\n",
       "       [-1.63292287],\n",
       "       [ 0.03080915],\n",
       "       [-0.72175875],\n",
       "       [-1.63292287],\n",
       "       [ 0.03080915],\n",
       "       [-0.72175875],\n",
       "       [-2.18500357],\n",
       "       [-1.36388746],\n",
       "       [-0.45150719],\n",
       "       [-1.9654573 ],\n",
       "       [ 0.39141709],\n",
       "       [ 0.10547402],\n",
       "       [-1.78783443],\n",
       "       [-2.18500357],\n",
       "       [ 0.03080915],\n",
       "       [-0.36636897],\n",
       "       [-0.20224757],\n",
       "       [-1.1292516 ],\n",
       "       [ 0.32169127],\n",
       "       [-1.49296969],\n",
       "       [-0.12294314],\n",
       "       [ 1.09809659],\n",
       "       [-0.04529591],\n",
       "       [-0.28333976],\n",
       "       [ 0.52772122],\n",
       "       [-0.91727237],\n",
       "       [-0.6289452 ],\n",
       "       [ 0.46007541],\n",
       "       [-1.78783443],\n",
       "       [-0.81773087],\n",
       "       [-0.20224757],\n",
       "       [-1.1292516 ],\n",
       "       [ 0.39141709],\n",
       "       [ 0.17878967],\n",
       "       [ 0.85238857],\n",
       "       [-0.6289452 ],\n",
       "       [-0.20224757],\n",
       "       [ 0.52772122],\n",
       "       [ 0.32169127],\n",
       "       [ 0.10547402],\n",
       "       [ 1.44751908],\n",
       "       [-0.12294314],\n",
       "       [-0.12294314],\n",
       "       [ 1.7239748 ],\n",
       "       [-1.02089518],\n",
       "       [-1.63292287],\n",
       "       [-1.63292287],\n",
       "       [ 0.91488629],\n",
       "       [ 1.15783006],\n",
       "       [-1.63292287],\n",
       "       [ 1.27543796],\n",
       "       [ 0.52772122],\n",
       "       [-0.28333976],\n",
       "       [-0.12294314],\n",
       "       [ 0.03080915],\n",
       "       [ 0.97665107],\n",
       "       [-0.20224757],\n",
       "       [-1.24319611],\n",
       "       [-0.04529591],\n",
       "       [-1.63292287],\n",
       "       [ 1.21693637],\n",
       "       [-0.45150719],\n",
       "       [ 0.39141709],\n",
       "       [-0.81773087],\n",
       "       [-0.36636897],\n",
       "       [-0.45150719],\n",
       "       [ 0.59440486],\n",
       "       [-0.53895433],\n",
       "       [-0.6289452 ],\n",
       "       [ 0.03080915],\n",
       "       [ 0.17878967],\n",
       "       [-0.6289452 ],\n",
       "       [ 0.91488629],\n",
       "       [ 1.15783006],\n",
       "       [-0.04529591],\n",
       "       [-1.78783443],\n",
       "       [-1.02089518],\n",
       "       [-0.36636897],\n",
       "       [ 1.21693637],\n",
       "       [ 0.59440486],\n",
       "       [ 0.39141709],\n",
       "       [ 1.15783006],\n",
       "       [ 1.03771209],\n",
       "       [-1.1292516 ],\n",
       "       [ 0.52772122],\n",
       "       [ 0.32169127],\n",
       "       [-1.24319611],\n",
       "       [ 1.61484783],\n",
       "       [-0.12294314],\n",
       "       [-1.49296969],\n",
       "       [ 0.72506668],\n",
       "       [ 1.15783006],\n",
       "       [ 0.17878967],\n",
       "       [-0.12294314],\n",
       "       [-0.28333976],\n",
       "       [ 0.66017251],\n",
       "       [ 0.03080915],\n",
       "       [ 0.52772122],\n",
       "       [ 0.59440486],\n",
       "       [ 1.21693637],\n",
       "       [-0.04529591],\n",
       "       [ 0.72506668],\n",
       "       [-1.63292287],\n",
       "       [ 0.52772122],\n",
       "       [-0.72175875],\n",
       "       [ 0.10547402],\n",
       "       [ 0.66017251],\n",
       "       [-1.02089518],\n",
       "       [ 0.78912659],\n",
       "       [ 1.33335589],\n",
       "       [ 1.5595717 ],\n",
       "       [ 0.72506668],\n",
       "       [ 0.72506668],\n",
       "       [ 1.09809659],\n",
       "       [ 1.03771209],\n",
       "       [ 1.44751908],\n",
       "       [-0.53895433],\n",
       "       [ 1.66964411],\n",
       "       [-0.6289452 ],\n",
       "       [ 1.39071003],\n",
       "       [ 1.39071003],\n",
       "       [-1.63292287],\n",
       "       [-1.1292516 ],\n",
       "       [-1.1292516 ],\n",
       "       [-0.72175875],\n",
       "       [ 1.93690267],\n",
       "       [ 0.72506668],\n",
       "       [ 0.25083761],\n",
       "       [ 1.61484783],\n",
       "       [ 1.21693637],\n",
       "       [ 1.09809659],\n",
       "       [ 1.8843054 ],\n",
       "       [ 1.5595717 ],\n",
       "       [-1.1292516 ],\n",
       "       [ 1.77785343],\n",
       "       [ 0.52772122],\n",
       "       [-1.9654573 ],\n",
       "       [ 0.59440486],\n",
       "       [-1.1292516 ],\n",
       "       [ 0.85238857],\n",
       "       [ 0.78912659],\n",
       "       [ 1.21693637],\n",
       "       [-0.81773087],\n",
       "       [-0.12294314],\n",
       "       [ 1.27543796],\n",
       "       [-0.20224757],\n",
       "       [-0.28333976],\n",
       "       [ 1.77785343],\n",
       "       [ 1.5595717 ],\n",
       "       [ 1.21693637],\n",
       "       [ 0.46007541],\n",
       "       [ 0.52772122],\n",
       "       [-0.53895433],\n",
       "       [ 1.61484783],\n",
       "       [ 0.85238857],\n",
       "       [-1.24319611],\n",
       "       [ 0.72506668],\n",
       "       [-1.49296969],\n",
       "       [ 0.10547402],\n",
       "       [-0.04529591],\n",
       "       [-0.53895433],\n",
       "       [ 0.59440486],\n",
       "       [ 0.97665107],\n",
       "       [ 0.10547402],\n",
       "       [-1.36388746],\n",
       "       [-0.72175875],\n",
       "       [ 1.61484783],\n",
       "       [-0.36636897],\n",
       "       [-0.36636897],\n",
       "       [ 0.25083761],\n",
       "       [-1.02089518],\n",
       "       [-0.6289452 ],\n",
       "       [ 0.25083761],\n",
       "       [ 0.66017251],\n",
       "       [-1.1292516 ],\n",
       "       [ 0.17878967],\n",
       "       [ 1.09809659],\n",
       "       [-0.91727237],\n",
       "       [ 0.17878967],\n",
       "       [ 1.77785343],\n",
       "       [-0.04529591],\n",
       "       [-0.20224757],\n",
       "       [ 0.85238857],\n",
       "       [-0.12294314],\n",
       "       [ 1.03771209],\n",
       "       [ 0.97665107],\n",
       "       [-0.6289452 ],\n",
       "       [ 0.78912659],\n",
       "       [ 1.09809659],\n",
       "       [-0.6289452 ],\n",
       "       [-0.28333976],\n",
       "       [ 1.15783006],\n",
       "       [ 0.72506668],\n",
       "       [ 0.78912659],\n",
       "       [-0.45150719],\n",
       "       [ 1.33335589],\n",
       "       [ 1.21693637],\n",
       "       [-1.63292287],\n",
       "       [ 0.46007541],\n",
       "       [ 2.1433549 ],\n",
       "       [ 1.15783006],\n",
       "       [ 0.39141709],\n",
       "       [ 0.10547402],\n",
       "       [-1.1292516 ],\n",
       "       [ 0.32169127],\n",
       "       [ 1.77785343],\n",
       "       [ 1.21693637],\n",
       "       [ 0.52772122],\n",
       "       [-0.81773087],\n",
       "       [-0.53895433],\n",
       "       [ 0.17878967],\n",
       "       [ 0.66017251],\n",
       "       [-0.04529591],\n",
       "       [ 1.44751908],\n",
       "       [ 1.44751908],\n",
       "       [-0.45150719],\n",
       "       [-0.91727237],\n",
       "       [ 0.97665107],\n",
       "       [ 0.85238857],\n",
       "       [-0.6289452 ],\n",
       "       [ 0.17878967],\n",
       "       [-0.72175875],\n",
       "       [ 0.66017251],\n",
       "       [ 0.46007541],\n",
       "       [ 0.52772122],\n",
       "       [-1.63292287],\n",
       "       [-1.36388746],\n",
       "       [ 1.15783006],\n",
       "       [-0.81773087],\n",
       "       [-1.1292516 ],\n",
       "       [ 0.46007541],\n",
       "       [-1.1292516 ],\n",
       "       [ 1.50380073],\n",
       "       [ 0.46007541],\n",
       "       [-0.45150719],\n",
       "       [ 0.59440486],\n",
       "       [ 0.59440486],\n",
       "       [ 1.15783006],\n",
       "       [ 0.85238857],\n",
       "       [ 1.27543796],\n",
       "       [ 0.66017251],\n",
       "       [ 0.85238857],\n",
       "       [ 0.72506668],\n",
       "       [ 1.39071003],\n",
       "       [ 0.32169127],\n",
       "       [-1.1292516 ]])"
      ]
     },
     "execution_count": 65,
     "metadata": {},
     "output_type": "execute_result"
    }
   ],
   "source": [
    "from sklearn.preprocessing import StandardScaler\n",
    "sc= StandardScaler()\n",
    "x= sc.fit_transform(x)\n",
    "x"
   ]
  },
  {
   "cell_type": "code",
   "execution_count": 66,
   "id": "693e67b4",
   "metadata": {},
   "outputs": [],
   "source": [
    "x=pd.DataFrame(x)"
   ]
  },
  {
   "cell_type": "markdown",
   "id": "bf30bf7e",
   "metadata": {},
   "source": [
    "# Lets encode for categorical features"
   ]
  },
  {
   "cell_type": "code",
   "execution_count": 67,
   "id": "6cc9a088",
   "metadata": {},
   "outputs": [
    {
     "data": {
      "text/html": [
       "<div>\n",
       "<style scoped>\n",
       "    .dataframe tbody tr th:only-of-type {\n",
       "        vertical-align: middle;\n",
       "    }\n",
       "\n",
       "    .dataframe tbody tr th {\n",
       "        vertical-align: top;\n",
       "    }\n",
       "\n",
       "    .dataframe thead th {\n",
       "        text-align: right;\n",
       "    }\n",
       "</style>\n",
       "<table border=\"1\" class=\"dataframe\">\n",
       "  <thead>\n",
       "    <tr style=\"text-align: right;\">\n",
       "      <th></th>\n",
       "      <th>rank</th>\n",
       "      <th>discipline</th>\n",
       "      <th>sex</th>\n",
       "    </tr>\n",
       "  </thead>\n",
       "  <tbody>\n",
       "    <tr>\n",
       "      <th>0</th>\n",
       "      <td>Prof</td>\n",
       "      <td>B</td>\n",
       "      <td>Male</td>\n",
       "    </tr>\n",
       "    <tr>\n",
       "      <th>1</th>\n",
       "      <td>Prof</td>\n",
       "      <td>B</td>\n",
       "      <td>Male</td>\n",
       "    </tr>\n",
       "    <tr>\n",
       "      <th>2</th>\n",
       "      <td>AsstProf</td>\n",
       "      <td>B</td>\n",
       "      <td>Male</td>\n",
       "    </tr>\n",
       "    <tr>\n",
       "      <th>3</th>\n",
       "      <td>Prof</td>\n",
       "      <td>B</td>\n",
       "      <td>Male</td>\n",
       "    </tr>\n",
       "    <tr>\n",
       "      <th>4</th>\n",
       "      <td>Prof</td>\n",
       "      <td>B</td>\n",
       "      <td>Male</td>\n",
       "    </tr>\n",
       "    <tr>\n",
       "      <th>...</th>\n",
       "      <td>...</td>\n",
       "      <td>...</td>\n",
       "      <td>...</td>\n",
       "    </tr>\n",
       "    <tr>\n",
       "      <th>392</th>\n",
       "      <td>Prof</td>\n",
       "      <td>A</td>\n",
       "      <td>Male</td>\n",
       "    </tr>\n",
       "    <tr>\n",
       "      <th>393</th>\n",
       "      <td>Prof</td>\n",
       "      <td>A</td>\n",
       "      <td>Male</td>\n",
       "    </tr>\n",
       "    <tr>\n",
       "      <th>394</th>\n",
       "      <td>Prof</td>\n",
       "      <td>A</td>\n",
       "      <td>Male</td>\n",
       "    </tr>\n",
       "    <tr>\n",
       "      <th>395</th>\n",
       "      <td>Prof</td>\n",
       "      <td>A</td>\n",
       "      <td>Male</td>\n",
       "    </tr>\n",
       "    <tr>\n",
       "      <th>396</th>\n",
       "      <td>AsstProf</td>\n",
       "      <td>A</td>\n",
       "      <td>Male</td>\n",
       "    </tr>\n",
       "  </tbody>\n",
       "</table>\n",
       "<p>397 rows × 3 columns</p>\n",
       "</div>"
      ],
      "text/plain": [
       "         rank discipline   sex\n",
       "0        Prof          B  Male\n",
       "1        Prof          B  Male\n",
       "2    AsstProf          B  Male\n",
       "3        Prof          B  Male\n",
       "4        Prof          B  Male\n",
       "..        ...        ...   ...\n",
       "392      Prof          A  Male\n",
       "393      Prof          A  Male\n",
       "394      Prof          A  Male\n",
       "395      Prof          A  Male\n",
       "396  AsstProf          A  Male\n",
       "\n",
       "[397 rows x 3 columns]"
      ]
     },
     "execution_count": 67,
     "metadata": {},
     "output_type": "execute_result"
    }
   ],
   "source": [
    "df_cat"
   ]
  },
  {
   "cell_type": "code",
   "execution_count": 68,
   "id": "bfeb2d09",
   "metadata": {},
   "outputs": [
    {
     "data": {
      "text/plain": [
       "array(['Prof', 'AsstProf', 'AssocProf'], dtype=object)"
      ]
     },
     "execution_count": 68,
     "metadata": {},
     "output_type": "execute_result"
    }
   ],
   "source": [
    "df_cat['rank'].unique()"
   ]
  },
  {
   "cell_type": "code",
   "execution_count": 69,
   "id": "2d85cfca",
   "metadata": {},
   "outputs": [],
   "source": [
    "df_cat['rank']=df_cat['rank'].map({'AsstProf':1,'AssocProf':2,'Prof':3})"
   ]
  },
  {
   "cell_type": "code",
   "execution_count": 70,
   "id": "40144c8f",
   "metadata": {},
   "outputs": [],
   "source": [
    "df_cat['discipline']= df_cat['discipline'].map({'B':1,'A':2})"
   ]
  },
  {
   "cell_type": "code",
   "execution_count": 71,
   "id": "0bb57fb4",
   "metadata": {},
   "outputs": [],
   "source": [
    "df_cat['sex_onehot']=   pd.get_dummies(df_cat['sex'],drop_first=True)"
   ]
  },
  {
   "cell_type": "code",
   "execution_count": 72,
   "id": "90a9120b",
   "metadata": {},
   "outputs": [],
   "source": [
    "df_cat.drop('sex', axis=1,inplace=True)"
   ]
  },
  {
   "cell_type": "code",
   "execution_count": 73,
   "id": "a19a3574",
   "metadata": {},
   "outputs": [
    {
     "data": {
      "text/html": [
       "<div>\n",
       "<style scoped>\n",
       "    .dataframe tbody tr th:only-of-type {\n",
       "        vertical-align: middle;\n",
       "    }\n",
       "\n",
       "    .dataframe tbody tr th {\n",
       "        vertical-align: top;\n",
       "    }\n",
       "\n",
       "    .dataframe thead th {\n",
       "        text-align: right;\n",
       "    }\n",
       "</style>\n",
       "<table border=\"1\" class=\"dataframe\">\n",
       "  <thead>\n",
       "    <tr style=\"text-align: right;\">\n",
       "      <th></th>\n",
       "      <th>rank</th>\n",
       "      <th>discipline</th>\n",
       "      <th>sex_onehot</th>\n",
       "    </tr>\n",
       "  </thead>\n",
       "  <tbody>\n",
       "    <tr>\n",
       "      <th>0</th>\n",
       "      <td>3</td>\n",
       "      <td>1</td>\n",
       "      <td>1</td>\n",
       "    </tr>\n",
       "    <tr>\n",
       "      <th>1</th>\n",
       "      <td>3</td>\n",
       "      <td>1</td>\n",
       "      <td>1</td>\n",
       "    </tr>\n",
       "    <tr>\n",
       "      <th>2</th>\n",
       "      <td>1</td>\n",
       "      <td>1</td>\n",
       "      <td>1</td>\n",
       "    </tr>\n",
       "    <tr>\n",
       "      <th>3</th>\n",
       "      <td>3</td>\n",
       "      <td>1</td>\n",
       "      <td>1</td>\n",
       "    </tr>\n",
       "    <tr>\n",
       "      <th>4</th>\n",
       "      <td>3</td>\n",
       "      <td>1</td>\n",
       "      <td>1</td>\n",
       "    </tr>\n",
       "    <tr>\n",
       "      <th>...</th>\n",
       "      <td>...</td>\n",
       "      <td>...</td>\n",
       "      <td>...</td>\n",
       "    </tr>\n",
       "    <tr>\n",
       "      <th>392</th>\n",
       "      <td>3</td>\n",
       "      <td>2</td>\n",
       "      <td>1</td>\n",
       "    </tr>\n",
       "    <tr>\n",
       "      <th>393</th>\n",
       "      <td>3</td>\n",
       "      <td>2</td>\n",
       "      <td>1</td>\n",
       "    </tr>\n",
       "    <tr>\n",
       "      <th>394</th>\n",
       "      <td>3</td>\n",
       "      <td>2</td>\n",
       "      <td>1</td>\n",
       "    </tr>\n",
       "    <tr>\n",
       "      <th>395</th>\n",
       "      <td>3</td>\n",
       "      <td>2</td>\n",
       "      <td>1</td>\n",
       "    </tr>\n",
       "    <tr>\n",
       "      <th>396</th>\n",
       "      <td>1</td>\n",
       "      <td>2</td>\n",
       "      <td>1</td>\n",
       "    </tr>\n",
       "  </tbody>\n",
       "</table>\n",
       "<p>397 rows × 3 columns</p>\n",
       "</div>"
      ],
      "text/plain": [
       "     rank  discipline  sex_onehot\n",
       "0       3           1           1\n",
       "1       3           1           1\n",
       "2       1           1           1\n",
       "3       3           1           1\n",
       "4       3           1           1\n",
       "..    ...         ...         ...\n",
       "392     3           2           1\n",
       "393     3           2           1\n",
       "394     3           2           1\n",
       "395     3           2           1\n",
       "396     1           2           1\n",
       "\n",
       "[397 rows x 3 columns]"
      ]
     },
     "execution_count": 73,
     "metadata": {},
     "output_type": "execute_result"
    }
   ],
   "source": [
    "df_cat"
   ]
  },
  {
   "cell_type": "code",
   "execution_count": 74,
   "id": "04d26e3e",
   "metadata": {},
   "outputs": [],
   "source": [
    "# Combine total inputs\n",
    "x=pd.concat([df_cat,x],axis=1)"
   ]
  },
  {
   "cell_type": "code",
   "execution_count": 75,
   "id": "2511b333",
   "metadata": {},
   "outputs": [
    {
     "data": {
      "text/plain": [
       "(397, 4)"
      ]
     },
     "execution_count": 75,
     "metadata": {},
     "output_type": "execute_result"
    }
   ],
   "source": [
    "x.shape"
   ]
  },
  {
   "cell_type": "code",
   "execution_count": 76,
   "id": "df0aaf67",
   "metadata": {},
   "outputs": [
    {
     "data": {
      "text/plain": [
       "(397,)"
      ]
     },
     "execution_count": 76,
     "metadata": {},
     "output_type": "execute_result"
    }
   ],
   "source": [
    "y.shape"
   ]
  },
  {
   "cell_type": "code",
   "execution_count": 77,
   "id": "04cf0dfb",
   "metadata": {},
   "outputs": [
    {
     "data": {
      "text/html": [
       "<div>\n",
       "<style scoped>\n",
       "    .dataframe tbody tr th:only-of-type {\n",
       "        vertical-align: middle;\n",
       "    }\n",
       "\n",
       "    .dataframe tbody tr th {\n",
       "        vertical-align: top;\n",
       "    }\n",
       "\n",
       "    .dataframe thead th {\n",
       "        text-align: right;\n",
       "    }\n",
       "</style>\n",
       "<table border=\"1\" class=\"dataframe\">\n",
       "  <thead>\n",
       "    <tr style=\"text-align: right;\">\n",
       "      <th></th>\n",
       "      <th>rank</th>\n",
       "      <th>discipline</th>\n",
       "      <th>sex_onehot</th>\n",
       "      <th>0</th>\n",
       "    </tr>\n",
       "  </thead>\n",
       "  <tbody>\n",
       "    <tr>\n",
       "      <th>0</th>\n",
       "      <td>3</td>\n",
       "      <td>1</td>\n",
       "      <td>1</td>\n",
       "      <td>-0.122943</td>\n",
       "    </tr>\n",
       "    <tr>\n",
       "      <th>1</th>\n",
       "      <td>3</td>\n",
       "      <td>1</td>\n",
       "      <td>1</td>\n",
       "      <td>-0.045296</td>\n",
       "    </tr>\n",
       "    <tr>\n",
       "      <th>2</th>\n",
       "      <td>1</td>\n",
       "      <td>1</td>\n",
       "      <td>1</td>\n",
       "      <td>-1.632923</td>\n",
       "    </tr>\n",
       "    <tr>\n",
       "      <th>3</th>\n",
       "      <td>3</td>\n",
       "      <td>1</td>\n",
       "      <td>1</td>\n",
       "      <td>1.559572</td>\n",
       "    </tr>\n",
       "    <tr>\n",
       "      <th>4</th>\n",
       "      <td>3</td>\n",
       "      <td>1</td>\n",
       "      <td>1</td>\n",
       "      <td>1.275438</td>\n",
       "    </tr>\n",
       "    <tr>\n",
       "      <th>...</th>\n",
       "      <td>...</td>\n",
       "      <td>...</td>\n",
       "      <td>...</td>\n",
       "      <td>...</td>\n",
       "    </tr>\n",
       "    <tr>\n",
       "      <th>392</th>\n",
       "      <td>3</td>\n",
       "      <td>2</td>\n",
       "      <td>1</td>\n",
       "      <td>0.852389</td>\n",
       "    </tr>\n",
       "    <tr>\n",
       "      <th>393</th>\n",
       "      <td>3</td>\n",
       "      <td>2</td>\n",
       "      <td>1</td>\n",
       "      <td>0.725067</td>\n",
       "    </tr>\n",
       "    <tr>\n",
       "      <th>394</th>\n",
       "      <td>3</td>\n",
       "      <td>2</td>\n",
       "      <td>1</td>\n",
       "      <td>1.390710</td>\n",
       "    </tr>\n",
       "    <tr>\n",
       "      <th>395</th>\n",
       "      <td>3</td>\n",
       "      <td>2</td>\n",
       "      <td>1</td>\n",
       "      <td>0.321691</td>\n",
       "    </tr>\n",
       "    <tr>\n",
       "      <th>396</th>\n",
       "      <td>1</td>\n",
       "      <td>2</td>\n",
       "      <td>1</td>\n",
       "      <td>-1.129252</td>\n",
       "    </tr>\n",
       "  </tbody>\n",
       "</table>\n",
       "<p>397 rows × 4 columns</p>\n",
       "</div>"
      ],
      "text/plain": [
       "     rank  discipline  sex_onehot         0\n",
       "0       3           1           1 -0.122943\n",
       "1       3           1           1 -0.045296\n",
       "2       1           1           1 -1.632923\n",
       "3       3           1           1  1.559572\n",
       "4       3           1           1  1.275438\n",
       "..    ...         ...         ...       ...\n",
       "392     3           2           1  0.852389\n",
       "393     3           2           1  0.725067\n",
       "394     3           2           1  1.390710\n",
       "395     3           2           1  0.321691\n",
       "396     1           2           1 -1.129252\n",
       "\n",
       "[397 rows x 4 columns]"
      ]
     },
     "execution_count": 77,
     "metadata": {},
     "output_type": "execute_result"
    }
   ],
   "source": [
    "x"
   ]
  },
  {
   "cell_type": "code",
   "execution_count": 78,
   "id": "e702b65b",
   "metadata": {},
   "outputs": [
    {
     "data": {
      "text/html": [
       "<div>\n",
       "<style scoped>\n",
       "    .dataframe tbody tr th:only-of-type {\n",
       "        vertical-align: middle;\n",
       "    }\n",
       "\n",
       "    .dataframe tbody tr th {\n",
       "        vertical-align: top;\n",
       "    }\n",
       "\n",
       "    .dataframe thead th {\n",
       "        text-align: right;\n",
       "    }\n",
       "</style>\n",
       "<table border=\"1\" class=\"dataframe\">\n",
       "  <thead>\n",
       "    <tr style=\"text-align: right;\">\n",
       "      <th></th>\n",
       "      <th>salary</th>\n",
       "    </tr>\n",
       "  </thead>\n",
       "  <tbody>\n",
       "    <tr>\n",
       "      <th>0</th>\n",
       "      <td>139750.0</td>\n",
       "    </tr>\n",
       "    <tr>\n",
       "      <th>1</th>\n",
       "      <td>173200.0</td>\n",
       "    </tr>\n",
       "    <tr>\n",
       "      <th>2</th>\n",
       "      <td>79750.0</td>\n",
       "    </tr>\n",
       "    <tr>\n",
       "      <th>3</th>\n",
       "      <td>115000.0</td>\n",
       "    </tr>\n",
       "    <tr>\n",
       "      <th>4</th>\n",
       "      <td>141500.0</td>\n",
       "    </tr>\n",
       "    <tr>\n",
       "      <th>...</th>\n",
       "      <td>...</td>\n",
       "    </tr>\n",
       "    <tr>\n",
       "      <th>392</th>\n",
       "      <td>103106.0</td>\n",
       "    </tr>\n",
       "    <tr>\n",
       "      <th>393</th>\n",
       "      <td>150564.0</td>\n",
       "    </tr>\n",
       "    <tr>\n",
       "      <th>394</th>\n",
       "      <td>101738.0</td>\n",
       "    </tr>\n",
       "    <tr>\n",
       "      <th>395</th>\n",
       "      <td>95329.0</td>\n",
       "    </tr>\n",
       "    <tr>\n",
       "      <th>396</th>\n",
       "      <td>81035.0</td>\n",
       "    </tr>\n",
       "  </tbody>\n",
       "</table>\n",
       "<p>397 rows × 1 columns</p>\n",
       "</div>"
      ],
      "text/plain": [
       "       salary\n",
       "0    139750.0\n",
       "1    173200.0\n",
       "2     79750.0\n",
       "3    115000.0\n",
       "4    141500.0\n",
       "..        ...\n",
       "392  103106.0\n",
       "393  150564.0\n",
       "394  101738.0\n",
       "395   95329.0\n",
       "396   81035.0\n",
       "\n",
       "[397 rows x 1 columns]"
      ]
     },
     "execution_count": 78,
     "metadata": {},
     "output_type": "execute_result"
    }
   ],
   "source": [
    "y= pd.DataFrame(y)\n",
    "y"
   ]
  },
  {
   "cell_type": "markdown",
   "id": "4d30fcc8",
   "metadata": {},
   "source": [
    "# Machine Learning"
   ]
  },
  {
   "cell_type": "code",
   "execution_count": 79,
   "id": "e186a147",
   "metadata": {},
   "outputs": [],
   "source": [
    "# This is a regression problem statement"
   ]
  },
  {
   "cell_type": "code",
   "execution_count": 80,
   "id": "a0b8a14e",
   "metadata": {},
   "outputs": [],
   "source": [
    "# For Train Test split, need to find best Random state value\n",
    "\n",
    "from sklearn.model_selection import train_test_split\n",
    "from sklearn.linear_model import LinearRegression\n",
    "from sklearn.metrics import mean_squared_error, r2_score, mean_absolute_error\n",
    "lr=LinearRegression()"
   ]
  },
  {
   "cell_type": "code",
   "execution_count": 81,
   "id": "7b149edc",
   "metadata": {},
   "outputs": [
    {
     "data": {
      "text/plain": [
       "LinearRegression()"
      ]
     },
     "execution_count": 81,
     "metadata": {},
     "output_type": "execute_result"
    }
   ],
   "source": [
    "x_train,x_test,y_train,y_test= train_test_split(x,y,random_state=55, test_size=.20)\n",
    "lr.fit(x_train,y_train)"
   ]
  },
  {
   "cell_type": "code",
   "execution_count": 82,
   "id": "54177820",
   "metadata": {},
   "outputs": [],
   "source": [
    "ppp=lr.predict(x_test)"
   ]
  },
  {
   "cell_type": "code",
   "execution_count": 83,
   "id": "0525d7fa",
   "metadata": {},
   "outputs": [
    {
     "data": {
      "text/plain": [
       "549153321.2192999"
      ]
     },
     "execution_count": 83,
     "metadata": {},
     "output_type": "execute_result"
    }
   ],
   "source": [
    "mean_squared_error(y_test,ppp)"
   ]
  },
  {
   "cell_type": "code",
   "execution_count": 84,
   "id": "93f180d9",
   "metadata": {},
   "outputs": [
    {
     "data": {
      "text/plain": [
       "17701.98329299539"
      ]
     },
     "execution_count": 84,
     "metadata": {},
     "output_type": "execute_result"
    }
   ],
   "source": [
    "mean_absolute_error(y_test,ppp)"
   ]
  },
  {
   "cell_type": "code",
   "execution_count": 85,
   "id": "da749a15",
   "metadata": {},
   "outputs": [],
   "source": [
    "for i in range(0,100):\n",
    "    x_train,x_test,y_train,y_test= train_test_split(x,y,random_state=i, test_size=.20)\n",
    "    lr.fit(x_train,y_train)\n",
    "    predict_train=lr.predict(x_train)\n",
    "    predict_test=lr.predict(x_test)\n",
    "    if round(mean_squared_error(y_train,predict_train)*100,10)== round(mean_squared_error(y_test,predict_test)*100,10):\n",
    "        print(\"At random state \", i, \"The model performance very well\")\n",
    "        print(\"At random state: \",i)\n",
    "        print(\"Training Mean squared error is: \", round(mean_squared_error(y_train,predict_train)*100,2))\n",
    "        print('Test Mean squared error is: ', round(mean_squared_error(y_test,predict_test)*100,2))\n",
    "        print('X'*50,'\\n')\n",
    "    "
   ]
  },
  {
   "cell_type": "code",
   "execution_count": 86,
   "id": "9df057c0",
   "metadata": {},
   "outputs": [],
   "source": [
    "from sklearn.linear_model import Ridge, Lasso\n",
    "from sklearn.linear_model import LassoCV,RidgeCV"
   ]
  },
  {
   "cell_type": "code",
   "execution_count": 87,
   "id": "eb58005b",
   "metadata": {},
   "outputs": [
    {
     "data": {
      "text/plain": [
       "Ridge()"
      ]
     },
     "execution_count": 87,
     "metadata": {},
     "output_type": "execute_result"
    }
   ],
   "source": [
    "r= Ridge()\n",
    "r.fit(x_train,y_train)"
   ]
  },
  {
   "cell_type": "code",
   "execution_count": 88,
   "id": "381978e3",
   "metadata": {},
   "outputs": [
    {
     "data": {
      "text/plain": [
       "400610981.3032884"
      ]
     },
     "execution_count": 88,
     "metadata": {},
     "output_type": "execute_result"
    }
   ],
   "source": [
    "mean_squared_error(y_test,r.predict(x_test))"
   ]
  },
  {
   "cell_type": "code",
   "execution_count": 89,
   "id": "de6ab18f",
   "metadata": {},
   "outputs": [
    {
     "data": {
      "text/plain": [
       "Lasso()"
      ]
     },
     "execution_count": 89,
     "metadata": {},
     "output_type": "execute_result"
    }
   ],
   "source": [
    "l= Lasso()\n",
    "l.fit(x_train,y_train)"
   ]
  },
  {
   "cell_type": "code",
   "execution_count": 90,
   "id": "cc573b05",
   "metadata": {},
   "outputs": [
    {
     "data": {
      "text/plain": [
       "400758746.7474326"
      ]
     },
     "execution_count": 90,
     "metadata": {},
     "output_type": "execute_result"
    }
   ],
   "source": [
    "mean_squared_error(y_test,l.predict(x_test))"
   ]
  },
  {
   "cell_type": "code",
   "execution_count": 91,
   "id": "1e81495f",
   "metadata": {},
   "outputs": [],
   "source": [
    "from sklearn.tree import DecisionTreeRegressor"
   ]
  },
  {
   "cell_type": "code",
   "execution_count": 92,
   "id": "502bd0f2",
   "metadata": {},
   "outputs": [],
   "source": [
    "DT= DecisionTreeRegressor()"
   ]
  },
  {
   "cell_type": "code",
   "execution_count": 93,
   "id": "1d7676cc",
   "metadata": {},
   "outputs": [
    {
     "data": {
      "text/plain": [
       "DecisionTreeRegressor()"
      ]
     },
     "execution_count": 93,
     "metadata": {},
     "output_type": "execute_result"
    }
   ],
   "source": [
    "DT.fit(x_train,y_train)"
   ]
  },
  {
   "cell_type": "code",
   "execution_count": 94,
   "id": "ca53f746",
   "metadata": {},
   "outputs": [
    {
     "data": {
      "text/plain": [
       "array([101335.66666667, 120484.83333333, 129687.25      , 146856.        ,\n",
       "        88021.        , 143100.        , 124827.        , 146856.        ,\n",
       "       127880.        , 142057.5       ,  85459.7       , 115470.66666667,\n",
       "       127377.        ,  73928.        , 131888.        , 127601.        ,\n",
       "       142057.5       , 145829.        , 128250.        , 111512.        ,\n",
       "        87529.5       , 142221.5       , 122878.66666667,  85459.7       ,\n",
       "        81500.        , 108550.5       , 140889.        ,  74500.        ,\n",
       "       108550.5       , 140889.        ,  75182.75      ,  91145.        ,\n",
       "       105000.        , 145156.66666667, 110515.        , 110515.        ,\n",
       "        88021.        ,  82850.        ,  80225.        , 148800.        ,\n",
       "        70700.        ,  74692.        ,  75182.75      ,  85459.7       ,\n",
       "       116790.5       , 113869.66666667, 127601.        ,  90236.5       ,\n",
       "        83672.        ,  62884.        , 115942.5       , 120833.        ,\n",
       "       165500.        , 111512.        , 114177.5       ,  88175.        ,\n",
       "       148269.        ,  89740.33333333,  77303.33333333, 118223.        ,\n",
       "       118165.75      , 118207.25      ,  90236.5       , 124054.71428571,\n",
       "       118223.        ,  99986.5       , 124054.71428571,  73928.        ,\n",
       "       127880.        ,  82850.        , 113869.66666667,  90236.5       ,\n",
       "       129687.25      , 143275.375     ,  76840.        , 105350.        ,\n",
       "       110876.33333333,  81285.        , 145829.        , 132228.        ])"
      ]
     },
     "execution_count": 94,
     "metadata": {},
     "output_type": "execute_result"
    }
   ],
   "source": [
    "DT.predict(x_test)"
   ]
  },
  {
   "cell_type": "code",
   "execution_count": 95,
   "id": "ca0d61b9",
   "metadata": {},
   "outputs": [
    {
     "data": {
      "text/plain": [
       "497272629.7300655"
      ]
     },
     "execution_count": 95,
     "metadata": {},
     "output_type": "execute_result"
    }
   ],
   "source": [
    "mean_squared_error(y_test,DT.predict(x_test))"
   ]
  },
  {
   "cell_type": "code",
   "execution_count": null,
   "id": "d6ee05bd",
   "metadata": {},
   "outputs": [],
   "source": []
  }
 ],
 "metadata": {
  "kernelspec": {
   "display_name": "Python 3",
   "language": "python",
   "name": "python3"
  },
  "language_info": {
   "codemirror_mode": {
    "name": "ipython",
    "version": 3
   },
   "file_extension": ".py",
   "mimetype": "text/x-python",
   "name": "python",
   "nbconvert_exporter": "python",
   "pygments_lexer": "ipython3",
   "version": "3.8.8"
  }
 },
 "nbformat": 4,
 "nbformat_minor": 5
}
